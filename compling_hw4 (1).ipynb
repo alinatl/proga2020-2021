{
 "cells": [
  {
   "cell_type": "code",
   "execution_count": null,
   "metadata": {
    "colab": {
     "base_uri": "https://localhost:8080/",
     "height": 277
    },
    "id": "LcOAKzfJ0f1Z",
    "outputId": "f4a77970-d87b-4435-a8da-f471ecac82ce"
   },
   "outputs": [
    {
     "name": "stdout",
     "output_type": "stream",
     "text": [
      "--2020-10-18 17:29:20--  http://vectors.nlpl.eu/repository/20/180.zip\n",
      "Resolving vectors.nlpl.eu (vectors.nlpl.eu)... 129.240.189.225\n",
      "Connecting to vectors.nlpl.eu (vectors.nlpl.eu)|129.240.189.225|:80... connected.\n",
      "HTTP request sent, awaiting response... 416 Requested Range Not Satisfiable\n",
      "\n",
      "    The file is already fully retrieved; nothing to do.\n",
      "\n",
      "Archive:  180.zip\n",
      "replace meta.json? [y]es, [n]o, [A]ll, [N]one, [r]ename: n\n",
      "replace model.bin? [y]es, [n]o, [A]ll, [N]one, [r]ename: n\n",
      "replace model.txt? [y]es, [n]o, [A]ll, [N]one, [r]ename: n\n",
      "replace README? [y]es, [n]o, [A]ll, [N]one, [r]ename: n\n",
      "Requirement already satisfied: pymorphy2 in /usr/local/lib/python3.6/dist-packages (0.9.1)\n",
      "Requirement already satisfied: dawg-python>=0.7.1 in /usr/local/lib/python3.6/dist-packages (from pymorphy2) (0.7.2)\n",
      "Requirement already satisfied: docopt>=0.6 in /usr/local/lib/python3.6/dist-packages (from pymorphy2) (0.6.2)\n",
      "Requirement already satisfied: pymorphy2-dicts-ru<3.0,>=2.4 in /usr/local/lib/python3.6/dist-packages (from pymorphy2) (2.4.417127.4579844)\n"
     ]
    }
   ],
   "source": [
    "!wget -c http://vectors.nlpl.eu/repository/20/180.zip\n",
    "!unzip 180.zip\n",
    "!pip install pymorphy2"
   ]
  },
  {
   "cell_type": "code",
   "execution_count": null,
   "metadata": {
    "colab": {
     "base_uri": "https://localhost:8080/",
     "height": 70
    },
    "id": "TND44WyC1SvI",
    "outputId": "ba4da6df-1391-4344-8acf-02b7c719ffdb"
   },
   "outputs": [
    {
     "name": "stderr",
     "output_type": "stream",
     "text": [
      "/usr/local/lib/python3.6/dist-packages/smart_open/smart_open_lib.py:252: UserWarning: This function is deprecated, use smart_open.open instead. See the migration notes for details: https://github.com/RaRe-Technologies/smart_open/blob/master/README.rst#migrating-to-the-new-open-function\n",
      "  'See the migration notes for details: %s' % _MIGRATION_NOTES_URL\n"
     ]
    }
   ],
   "source": [
    "import gensim\n",
    "\n",
    "model = gensim.models.KeyedVectors.load_word2vec_format(\"model.bin\", binary=True)\n",
    "model.init_sims(replace=True)\n",
    "import warnings\n",
    "warnings.simplefilter(action='ignore', category=FutureWarning)\n",
    "import pandas as pd\n",
    "import numpy as np"
   ]
  },
  {
   "cell_type": "code",
   "execution_count": null,
   "metadata": {
    "id": "6R_JO0lfiiuM"
   },
   "outputs": [],
   "source": [
    "import pymorphy2\n",
    "morph = pymorphy2.MorphAnalyzer()\n",
    "from sklearn.feature_extraction.text import CountVectorizer\n",
    "from sklearn.metrics import  f1_score"
   ]
  },
  {
   "cell_type": "code",
   "execution_count": null,
   "metadata": {
    "id": "Q0kvMmlV9L4e"
   },
   "outputs": [],
   "source": [
    "import string\n",
    "import re"
   ]
  },
  {
   "cell_type": "markdown",
   "metadata": {
    "id": "I0VnDq81LTdn"
   },
   "source": [
    "аугментация данных"
   ]
  },
  {
   "cell_type": "code",
   "execution_count": null,
   "metadata": {
    "colab": {
     "base_uri": "https://localhost:8080/",
     "height": 35
    },
    "id": "LHLsFTTj1YBu",
    "outputId": "690e6b3a-2675-4194-f9ad-c1aaef5df5b2"
   },
   "outputs": [
    {
     "data": {
      "application/vnd.google.colaboratory.intrinsic+json": {
       "type": "string"
      },
      "text/plain": [
       "'мама вымывать окошко'"
      ]
     },
     "execution_count": 6,
     "metadata": {
      "tags": []
     },
     "output_type": "execute_result"
    }
   ],
   "source": [
    "def augment_word2vec(sentence, model=model):\n",
    "    sent_aug = []\n",
    "    for word in sentence.split(' '):\n",
    "      p = morph.parse(word)[0]\n",
    "      tag = p.tag.POS\n",
    "      word = p.normal_form + '_' + tag\n",
    "      if word in model:\n",
    "          for i in model.most_similar(positive=[word], topn=1):\n",
    "              word_aug = i[0].split('_')\n",
    "              sent_aug.append(word_aug[0])\n",
    "    str_sent =' '.join(sent_aug)\n",
    "    return str_sent\n",
    "\n",
    "sent = \"мама помыла окно\"\n",
    "augment_word2vec(sent, model=model)"
   ]
  },
  {
   "cell_type": "code",
   "execution_count": null,
   "metadata": {
    "colab": {
     "base_uri": "https://localhost:8080/",
     "height": 35
    },
    "id": "hWEg53TN23W0",
    "outputId": "916adebe-588f-462c-b3df-a0d561766d7e"
   },
   "outputs": [
    {
     "data": {
      "application/vnd.google.colaboratory.intrinsic+json": {
       "type": "string"
      },
      "text/plain": [
       "'бабушка вымывать окошко'"
      ]
     },
     "execution_count": 7,
     "metadata": {
      "tags": []
     },
     "output_type": "execute_result"
    }
   ],
   "source": [
    " def augment_word2vec_pos(sentence, model=model):\n",
    "    sent_aug = []\n",
    "    for word in sentence.split(' '):\n",
    "      p = morph.parse(word)[0]\n",
    "      tag = p.tag.POS\n",
    "      word = p.normal_form + '_' + tag\n",
    "      if word in model:\n",
    "          for i in model.most_similar(positive=[word]):\n",
    "              word_aug = i[0].split('_')\n",
    "              if word_aug[1] == str(tag):\n",
    "                  sent_aug.append(word_aug[0])\n",
    "                  break\n",
    "\n",
    "    str_sent =' '.join(sent_aug)\n",
    "    return str_sent\n",
    "\n",
    "sent = \"мама помыла окно\"\n",
    "augment_word2vec_pos(sent, model=model)"
   ]
  },
  {
   "cell_type": "markdown",
   "metadata": {
    "id": "jMgwVIXuLcPO"
   },
   "source": [
    "**Блок 2: Регрессия; Medium Stories**"
   ]
  },
  {
   "cell_type": "code",
   "execution_count": null,
   "metadata": {
    "colab": {
     "base_uri": "https://localhost:8080/",
     "height": 33
    },
    "id": "fgd30pLWfkpO",
    "outputId": "cceecf4f-69ba-4821-a218-ced0ba5f0066"
   },
   "outputs": [
    {
     "name": "stdout",
     "output_type": "stream",
     "text": [
      "Drive already mounted at drive; to attempt to forcibly remount, call drive.mount(\"drive\", force_remount=True).\n"
     ]
    }
   ],
   "source": [
    "from google.colab import drive\n",
    "drive.mount('drive')"
   ]
  },
  {
   "cell_type": "code",
   "execution_count": null,
   "metadata": {
    "id": "57F8a2dGf66t"
   },
   "outputs": [],
   "source": [
    "# !unzip '/content/drive/My Drive/medium_stories.zip'"
   ]
  },
  {
   "cell_type": "code",
   "execution_count": null,
   "metadata": {
    "colab": {
     "base_uri": "https://localhost:8080/",
     "height": 50
    },
    "id": "WVLRmSqOpftN",
    "outputId": "f4862112-1e81-45d5-fbaf-4d1c45fe17e6"
   },
   "outputs": [
    {
     "name": "stderr",
     "output_type": "stream",
     "text": [
      "/usr/local/lib/python3.6/dist-packages/IPython/core/interactiveshell.py:2718: DtypeWarning: Columns (5) have mixed types.Specify dtype option on import or set low_memory=False.\n",
      "  interactivity=interactivity, compiler=compiler, result=result)\n"
     ]
    }
   ],
   "source": [
    "# можно не использовать колонки с тегами\n",
    "usecols = [\"Title\", \"Subtitle\", \"Image\", \"Author\", \"Publication\", \"Year\", \"Month\", \"Day\", \"Reading_Time\", \"Claps\", \"url\", \"Author_url\"]\n",
    "\n",
    "df = pd.read_csv(\"Medium_Clean.csv\", sep=\",\", usecols=usecols)[:50000]\n",
    "df[\"Claps\"] = df[\"Claps\"].astype(int)\n",
    "df.head()\n",
    "\n",
    "df['title_sibtitle'] = df.Title + ' ' + df.Subtitle\n",
    "# df = df.dropna(subset=['title_sibtitle'])\n",
    "df = df.dropna()"
   ]
  },
  {
   "cell_type": "code",
   "execution_count": null,
   "metadata": {
    "colab": {
     "base_uri": "https://localhost:8080/",
     "height": 797
    },
    "id": "87uqk7DG_TWp",
    "outputId": "5b9cbfa1-21a3-4454-ec05-a9c2a33a407f"
   },
   "outputs": [
    {
     "data": {
      "text/html": [
       "<div>\n",
       "<style scoped>\n",
       "    .dataframe tbody tr th:only-of-type {\n",
       "        vertical-align: middle;\n",
       "    }\n",
       "\n",
       "    .dataframe tbody tr th {\n",
       "        vertical-align: top;\n",
       "    }\n",
       "\n",
       "    .dataframe thead th {\n",
       "        text-align: right;\n",
       "    }\n",
       "</style>\n",
       "<table border=\"1\" class=\"dataframe\">\n",
       "  <thead>\n",
       "    <tr style=\"text-align: right;\">\n",
       "      <th></th>\n",
       "      <th>Title</th>\n",
       "      <th>Subtitle</th>\n",
       "      <th>Image</th>\n",
       "      <th>Author</th>\n",
       "      <th>Publication</th>\n",
       "      <th>Year</th>\n",
       "      <th>Month</th>\n",
       "      <th>Day</th>\n",
       "      <th>Reading_Time</th>\n",
       "      <th>Claps</th>\n",
       "      <th>url</th>\n",
       "      <th>Author_url</th>\n",
       "      <th>title_sibtitle</th>\n",
       "    </tr>\n",
       "  </thead>\n",
       "  <tbody>\n",
       "    <tr>\n",
       "      <th>3</th>\n",
       "      <td>The Value Generated through AI led Mindfulness</td>\n",
       "      <td>A true product co-created by the Millennials</td>\n",
       "      <td>1</td>\n",
       "      <td>Emiko Sawaguchi</td>\n",
       "      <td>MILLENNIALSTIMES</td>\n",
       "      <td>2017</td>\n",
       "      <td>8</td>\n",
       "      <td>1</td>\n",
       "      <td>5</td>\n",
       "      <td>4</td>\n",
       "      <td>https://millennials-times.com/creativeflower-e...</td>\n",
       "      <td>https://millennials-times.com/@emikosawaguchi</td>\n",
       "      <td>The Value Generated through AI led Mindfulness...</td>\n",
       "    </tr>\n",
       "    <tr>\n",
       "      <th>4</th>\n",
       "      <td>Os Melhores Links de JulhoCmeras Vintage, Goog...</td>\n",
       "      <td>mas pera a?</td>\n",
       "      <td>1</td>\n",
       "      <td>Giovani Ferreira</td>\n",
       "      <td>NEW ORDER</td>\n",
       "      <td>2017</td>\n",
       "      <td>8</td>\n",
       "      <td>1</td>\n",
       "      <td>3</td>\n",
       "      <td>56</td>\n",
       "      <td>https://medium.com/neworder/os-melhores-links-...</td>\n",
       "      <td>https://medium.com/@gferreira</td>\n",
       "      <td>Os Melhores Links de JulhoCmeras Vintage, Goog...</td>\n",
       "    </tr>\n",
       "    <tr>\n",
       "      <th>5</th>\n",
       "      <td>The Future of AI: Redefining How We Imagine</td>\n",
       "      <td>Original article posted on FICO blogs</td>\n",
       "      <td>1</td>\n",
       "      <td>Syed Sadat Nazrul</td>\n",
       "      <td>Towards Data Science</td>\n",
       "      <td>2017</td>\n",
       "      <td>8</td>\n",
       "      <td>1</td>\n",
       "      <td>6</td>\n",
       "      <td>103</td>\n",
       "      <td>https://towardsdatascience.com/the-future-of-a...</td>\n",
       "      <td>https://towardsdatascience.com/@sadatnazrul</td>\n",
       "      <td>The Future of AI: Redefining How We Imagine Or...</td>\n",
       "    </tr>\n",
       "    <tr>\n",
       "      <th>12</th>\n",
       "      <td>Serverless Prefabricated PaaS Accelerates Busi...</td>\n",
       "      <td>Serverless Computing accelerates time to</td>\n",
       "      <td>1</td>\n",
       "      <td>Hari Harikrishnan</td>\n",
       "      <td>The Cerebrus</td>\n",
       "      <td>2017</td>\n",
       "      <td>8</td>\n",
       "      <td>2</td>\n",
       "      <td>3</td>\n",
       "      <td>1</td>\n",
       "      <td>https://medium.com/cerebrus/from-rpc-to-server...</td>\n",
       "      <td>https://medium.com/@harikris</td>\n",
       "      <td>Serverless Prefabricated PaaS Accelerates Busi...</td>\n",
       "    </tr>\n",
       "    <tr>\n",
       "      <th>16</th>\n",
       "      <td>Chatbot2022630</td>\n",
       "      <td>Amie Chan 201781</td>\n",
       "      <td>0</td>\n",
       "      <td>Amie C.</td>\n",
       "      <td>Chatbots bible and More.</td>\n",
       "      <td>2017</td>\n",
       "      <td>8</td>\n",
       "      <td>2</td>\n",
       "      <td>1</td>\n",
       "      <td>2</td>\n",
       "      <td>https://medium.com/chatbots-bible-and-more/cha...</td>\n",
       "      <td>https://medium.com/@ameeee_c</td>\n",
       "      <td>Chatbot2022630  Amie Chan 201781</td>\n",
       "    </tr>\n",
       "    <tr>\n",
       "      <th>...</th>\n",
       "      <td>...</td>\n",
       "      <td>...</td>\n",
       "      <td>...</td>\n",
       "      <td>...</td>\n",
       "      <td>...</td>\n",
       "      <td>...</td>\n",
       "      <td>...</td>\n",
       "      <td>...</td>\n",
       "      <td>...</td>\n",
       "      <td>...</td>\n",
       "      <td>...</td>\n",
       "      <td>...</td>\n",
       "      <td>...</td>\n",
       "    </tr>\n",
       "    <tr>\n",
       "      <th>49979</th>\n",
       "      <td>Why should you care about voice interfaces?</td>\n",
       "      <td>Hey! But I already use my fingers to swipe on ...</td>\n",
       "      <td>1</td>\n",
       "      <td>Kore</td>\n",
       "      <td>UX Collective</td>\n",
       "      <td>2018</td>\n",
       "      <td>4</td>\n",
       "      <td>1</td>\n",
       "      <td>3</td>\n",
       "      <td>200</td>\n",
       "      <td>https://uxdesign.cc/why-should-you-care-about-...</td>\n",
       "      <td>https://uxdesign.cc/@akshaykore</td>\n",
       "      <td>Why should you care about voice interfaces? He...</td>\n",
       "    </tr>\n",
       "    <tr>\n",
       "      <th>49982</th>\n",
       "      <td>Introducing Meeting Attender</td>\n",
       "      <td>We spend a lot of time in meetings. In fact, m...</td>\n",
       "      <td>1</td>\n",
       "      <td>My Meeting Video</td>\n",
       "      <td>My Meeting Video</td>\n",
       "      <td>2018</td>\n",
       "      <td>4</td>\n",
       "      <td>1</td>\n",
       "      <td>2</td>\n",
       "      <td>0</td>\n",
       "      <td>https://medium.com/my-meeting-video/introducin...</td>\n",
       "      <td>https://medium.com/@mymeetingvideo</td>\n",
       "      <td>Introducing Meeting Attender We spend a lot of...</td>\n",
       "    </tr>\n",
       "    <tr>\n",
       "      <th>49987</th>\n",
       "      <td>The Choice Not to Think</td>\n",
       "      <td>To think, or not to think, that is the question</td>\n",
       "      <td>1</td>\n",
       "      <td>Shane Saunderson</td>\n",
       "      <td>The Robot Magazine</td>\n",
       "      <td>2018</td>\n",
       "      <td>4</td>\n",
       "      <td>1</td>\n",
       "      <td>6</td>\n",
       "      <td>23</td>\n",
       "      <td>https://medium.com/the-robot-magazine/the-choi...</td>\n",
       "      <td>https://medium.com/@ArtificialShane</td>\n",
       "      <td>The Choice Not to Think To think, or not to th...</td>\n",
       "    </tr>\n",
       "    <tr>\n",
       "      <th>49991</th>\n",
       "      <td>Is it smart to have artificial intelligence?</td>\n",
       "      <td>We were in Brooklyn heading to a favorite Mexi...</td>\n",
       "      <td>0</td>\n",
       "      <td>Yves Mulkers</td>\n",
       "      <td>The Data Intelligence Connection</td>\n",
       "      <td>2018</td>\n",
       "      <td>4</td>\n",
       "      <td>1</td>\n",
       "      <td>2</td>\n",
       "      <td>0</td>\n",
       "      <td>https://medium.com/the-data-intelligence-conne...</td>\n",
       "      <td>https://medium.com/@YvesMulkers</td>\n",
       "      <td>Is it smart to have artificial intelligence? W...</td>\n",
       "    </tr>\n",
       "    <tr>\n",
       "      <th>49993</th>\n",
       "      <td>Evolving Trust</td>\n",
       "      <td>Hi Friend,</td>\n",
       "      <td>1</td>\n",
       "      <td>Stephen Nemeth</td>\n",
       "      <td>Thrice Told Tales</td>\n",
       "      <td>2018</td>\n",
       "      <td>4</td>\n",
       "      <td>1</td>\n",
       "      <td>2</td>\n",
       "      <td>0</td>\n",
       "      <td>https://medium.com/thrice-told-tales/evolving-...</td>\n",
       "      <td>https://medium.com/@sanemeth</td>\n",
       "      <td>Evolving Trust Hi Friend,</td>\n",
       "    </tr>\n",
       "  </tbody>\n",
       "</table>\n",
       "<p>7990 rows × 13 columns</p>\n",
       "</div>"
      ],
      "text/plain": [
       "                                                   Title  ...                                     title_sibtitle\n",
       "3         The Value Generated through AI led Mindfulness  ...  The Value Generated through AI led Mindfulness...\n",
       "4      Os Melhores Links de JulhoCmeras Vintage, Goog...  ...  Os Melhores Links de JulhoCmeras Vintage, Goog...\n",
       "5            The Future of AI: Redefining How We Imagine  ...  The Future of AI: Redefining How We Imagine Or...\n",
       "12     Serverless Prefabricated PaaS Accelerates Busi...  ...  Serverless Prefabricated PaaS Accelerates Busi...\n",
       "16                                        Chatbot2022630  ...                   Chatbot2022630  Amie Chan 201781\n",
       "...                                                  ...  ...                                                ...\n",
       "49979        Why should you care about voice interfaces?  ...  Why should you care about voice interfaces? He...\n",
       "49982                       Introducing Meeting Attender  ...  Introducing Meeting Attender We spend a lot of...\n",
       "49987                            The Choice Not to Think  ...  The Choice Not to Think To think, or not to th...\n",
       "49991       Is it smart to have artificial intelligence?  ...  Is it smart to have artificial intelligence? W...\n",
       "49993                                     Evolving Trust  ...                          Evolving Trust Hi Friend,\n",
       "\n",
       "[7990 rows x 13 columns]"
      ]
     },
     "execution_count": 11,
     "metadata": {
      "tags": []
     },
     "output_type": "execute_result"
    }
   ],
   "source": [
    "df"
   ]
  },
  {
   "cell_type": "markdown",
   "metadata": {
    "id": "K3ermJ6M0wxY"
   },
   "source": [
    "конструирую дополнительные признаки (использовать их буду позже)"
   ]
  },
  {
   "cell_type": "code",
   "execution_count": null,
   "metadata": {
    "id": "ILZNRk8_0RpL"
   },
   "outputs": [],
   "source": [
    "df['text_len'] = df['title_sibtitle'].apply(len)\n",
    "df['text_len_tokens'] = df['title_sibtitle'].apply(lambda x: len(x.split()))\n",
    "df['number_of_caps'] = df['title_sibtitle'].apply(lambda x: len([ch for ch in x if ch.isupper()]))\n",
    "df['number_of_nonalphanum'] = df['title_sibtitle'].apply(lambda x: len([ch for ch in x if not ch.isalnum()]))"
   ]
  },
  {
   "cell_type": "markdown",
   "metadata": {
    "id": "kYxlhO3M0_eE"
   },
   "source": [
    "токенизирую"
   ]
  },
  {
   "cell_type": "code",
   "execution_count": null,
   "metadata": {
    "id": "TVZVTOdAulyi"
   },
   "outputs": [],
   "source": [
    "def my_tokenizer(text):\n",
    "    text = text.lower()\n",
    "    text = re.sub(r'[^A-Za-z0-9]+',\" \",text)\n",
    "    # text = text.split(' ')\n",
    "    # print(text)\n",
    "    return text"
   ]
  },
  {
   "cell_type": "code",
   "execution_count": null,
   "metadata": {
    "id": "H6uUrwaM0WFy"
   },
   "outputs": [],
   "source": [
    "df['title_sibtitle'] = df['title_sibtitle'].apply(my_tokenizer)"
   ]
  },
  {
   "cell_type": "markdown",
   "metadata": {
    "id": "EIYX2brrsPe9"
   },
   "source": [
    "эксплоративный анализ данных"
   ]
  },
  {
   "cell_type": "code",
   "execution_count": null,
   "metadata": {
    "colab": {
     "base_uri": "https://localhost:8080/",
     "height": 228
    },
    "id": "3vWnxR6FfYI6",
    "outputId": "81649da3-85c0-4e93-f497-9970bd36b555"
   },
   "outputs": [
    {
     "name": "stdout",
     "output_type": "stream",
     "text": [
      "(7990, 17)\n",
      "качественные данные \n",
      "\n",
      "Author:  4297\n",
      "Publication:  3176\n",
      "\n",
      " количественные данные\n",
      "Year:  2\n",
      "Month:  12\n",
      "Month:  12\n",
      "Reading_Time:  31\n",
      "Claps max:  10300\n",
      "Image: : 2\n"
     ]
    }
   ],
   "source": [
    "print(df.shape)\n",
    "print('качественные данные', '\\n')\n",
    "print('Author: ', len(df['Author'].unique()))\n",
    "print('Publication: ', len(df['Publication'].unique()))\n",
    "\n",
    "print('\\n', 'количественные данные')\n",
    "print('Year: ', len(df['Year'].unique()))\n",
    "print('Month: ', len(df['Month'].unique()))\n",
    "print('Month: ', len(df['Month'].unique()))\n",
    "print('Reading_Time: ', len(df['Reading_Time'].unique()))\n",
    "print('Claps max: ', df['Claps'].max())\n",
    "print('Image: :', len(df['Image'].unique()))"
   ]
  },
  {
   "cell_type": "markdown",
   "metadata": {
    "id": "f97DdsQTMGH_"
   },
   "source": [
    "качественные данные кодирую с помощью one-hot encoding. Данных в столбце автор и Publication слишком много, и при кодировании таким способом получатся сильно разреженные вектора, поэтому эти столбцы я пропущу"
   ]
  },
  {
   "cell_type": "code",
   "execution_count": null,
   "metadata": {
    "colab": {
     "base_uri": "https://localhost:8080/",
     "height": 66
    },
    "id": "kTP6K1OQsR86",
    "outputId": "5d78d193-ceeb-45c1-aa32-dd768aeeb635"
   },
   "outputs": [
    {
     "data": {
      "text/plain": [
       "1    0.626909\n",
       "0    0.373091\n",
       "Name: Image, dtype: float64"
      ]
     },
     "execution_count": 16,
     "metadata": {
      "tags": []
     },
     "output_type": "execute_result"
    }
   ],
   "source": [
    "df.Image.value_counts(normalize=True)"
   ]
  },
  {
   "cell_type": "code",
   "execution_count": null,
   "metadata": {
    "colab": {
     "base_uri": "https://localhost:8080/",
     "height": 212
    },
    "id": "ktd_TwbIur7v",
    "outputId": "f0d7f7f2-2e4e-4068-c91b-33cc78de4d21"
   },
   "outputs": [
    {
     "data": {
      "text/plain": [
       "                     137\n",
       "sumeet jannu         104\n",
       "DEEP AERO DRONES      78\n",
       "Joyce Ter Horst       69\n",
       "C Gavilanes           57\n",
       "                    ... \n",
       "Andrew Haisting        1\n",
       "Jacob Heinricher       1\n",
       "Hasibul Kabir          1\n",
       "Florence Fermanis      1\n",
       "Yatharth Ipsum         1\n",
       "Name: Author, Length: 4297, dtype: int64"
      ]
     },
     "execution_count": 17,
     "metadata": {
      "tags": []
     },
     "output_type": "execute_result"
    }
   ],
   "source": [
    "df.Author.value_counts()"
   ]
  },
  {
   "cell_type": "code",
   "execution_count": null,
   "metadata": {
    "colab": {
     "base_uri": "https://localhost:8080/",
     "height": 537
    },
    "id": "ryE-3pYOvWUZ",
    "outputId": "2ea61b06-8fdc-4499-8c39-5933bdbce53f"
   },
   "outputs": [
    {
     "data": {
      "text/plain": [
       "2     1815\n",
       "3     1721\n",
       "4     1248\n",
       "1     1021\n",
       "5      739\n",
       "6      439\n",
       "7      289\n",
       "8      186\n",
       "9      120\n",
       "10     103\n",
       "0      102\n",
       "11      61\n",
       "12      31\n",
       "13      26\n",
       "15      22\n",
       "14      16\n",
       "16       9\n",
       "19       8\n",
       "17       7\n",
       "18       5\n",
       "23       4\n",
       "24       3\n",
       "26       3\n",
       "21       3\n",
       "31       2\n",
       "25       2\n",
       "20       1\n",
       "28       1\n",
       "36       1\n",
       "27       1\n",
       "22       1\n",
       "Name: Reading_Time, dtype: int64"
      ]
     },
     "execution_count": 18,
     "metadata": {
      "tags": []
     },
     "output_type": "execute_result"
    }
   ],
   "source": [
    "df.Reading_Time.value_counts()"
   ]
  },
  {
   "cell_type": "code",
   "execution_count": null,
   "metadata": {
    "colab": {
     "base_uri": "https://localhost:8080/",
     "height": 220
    },
    "id": "gimK1bzfxAkI",
    "outputId": "db9d116c-231c-4cb5-cc8e-a18098f9f2fa"
   },
   "outputs": [
    {
     "data": {
      "text/html": [
       "<div>\n",
       "<style scoped>\n",
       "    .dataframe tbody tr th:only-of-type {\n",
       "        vertical-align: middle;\n",
       "    }\n",
       "\n",
       "    .dataframe tbody tr th {\n",
       "        vertical-align: top;\n",
       "    }\n",
       "\n",
       "    .dataframe thead th {\n",
       "        text-align: right;\n",
       "    }\n",
       "</style>\n",
       "<table border=\"1\" class=\"dataframe\">\n",
       "  <thead>\n",
       "    <tr style=\"text-align: right;\">\n",
       "      <th></th>\n",
       "      <th>Image</th>\n",
       "      <th>Year</th>\n",
       "      <th>Month</th>\n",
       "      <th>Day</th>\n",
       "      <th>Reading_Time</th>\n",
       "      <th>Claps</th>\n",
       "    </tr>\n",
       "  </thead>\n",
       "  <tbody>\n",
       "    <tr>\n",
       "      <th>Image</th>\n",
       "      <td>1.000000</td>\n",
       "      <td>0.004682</td>\n",
       "      <td>-0.015544</td>\n",
       "      <td>-0.024095</td>\n",
       "      <td>0.101406</td>\n",
       "      <td>0.061517</td>\n",
       "    </tr>\n",
       "    <tr>\n",
       "      <th>Year</th>\n",
       "      <td>0.004682</td>\n",
       "      <td>1.000000</td>\n",
       "      <td>-0.869153</td>\n",
       "      <td>0.009992</td>\n",
       "      <td>-0.027275</td>\n",
       "      <td>-0.006035</td>\n",
       "    </tr>\n",
       "    <tr>\n",
       "      <th>Month</th>\n",
       "      <td>-0.015544</td>\n",
       "      <td>-0.869153</td>\n",
       "      <td>1.000000</td>\n",
       "      <td>-0.041548</td>\n",
       "      <td>0.010947</td>\n",
       "      <td>-0.002713</td>\n",
       "    </tr>\n",
       "    <tr>\n",
       "      <th>Day</th>\n",
       "      <td>-0.024095</td>\n",
       "      <td>0.009992</td>\n",
       "      <td>-0.041548</td>\n",
       "      <td>1.000000</td>\n",
       "      <td>0.030841</td>\n",
       "      <td>-0.002976</td>\n",
       "    </tr>\n",
       "    <tr>\n",
       "      <th>Reading_Time</th>\n",
       "      <td>0.101406</td>\n",
       "      <td>-0.027275</td>\n",
       "      <td>0.010947</td>\n",
       "      <td>0.030841</td>\n",
       "      <td>1.000000</td>\n",
       "      <td>0.193460</td>\n",
       "    </tr>\n",
       "    <tr>\n",
       "      <th>Claps</th>\n",
       "      <td>0.061517</td>\n",
       "      <td>-0.006035</td>\n",
       "      <td>-0.002713</td>\n",
       "      <td>-0.002976</td>\n",
       "      <td>0.193460</td>\n",
       "      <td>1.000000</td>\n",
       "    </tr>\n",
       "  </tbody>\n",
       "</table>\n",
       "</div>"
      ],
      "text/plain": [
       "                 Image      Year     Month       Day  Reading_Time     Claps\n",
       "Image         1.000000  0.004682 -0.015544 -0.024095      0.101406  0.061517\n",
       "Year          0.004682  1.000000 -0.869153  0.009992     -0.027275 -0.006035\n",
       "Month        -0.015544 -0.869153  1.000000 -0.041548      0.010947 -0.002713\n",
       "Day          -0.024095  0.009992 -0.041548  1.000000      0.030841 -0.002976\n",
       "Reading_Time  0.101406 -0.027275  0.010947  0.030841      1.000000  0.193460\n",
       "Claps         0.061517 -0.006035 -0.002713 -0.002976      0.193460  1.000000"
      ]
     },
     "execution_count": 19,
     "metadata": {
      "tags": []
     },
     "output_type": "execute_result"
    }
   ],
   "source": [
    "import matplotlib.pyplot as plt\n",
    "\n",
    "df[[ \"Image\", \"Year\", \"Month\", \"Day\", \"Reading_Time\", \"Claps\"]].corr()"
   ]
  },
  {
   "cell_type": "markdown",
   "metadata": {
    "id": "shNZfTTekID8"
   },
   "source": [
    "из таблицы видно, что признаки reading_time и image больше прочих коррелируют с claps, поэтому далее я буду использовать только эти два признака"
   ]
  },
  {
   "cell_type": "markdown",
   "metadata": {
    "id": "cTcYyDfaL5kp"
   },
   "source": [
    "**векторизую данные** "
   ]
  },
  {
   "cell_type": "code",
   "execution_count": null,
   "metadata": {
    "id": "meq7e7G0bshT"
   },
   "outputs": [],
   "source": [
    "from sklearn.model_selection import train_test_split\n",
    "import statistics\n",
    "from sklearn.preprocessing import StandardScaler"
   ]
  },
  {
   "cell_type": "code",
   "execution_count": null,
   "metadata": {
    "colab": {
     "base_uri": "https://localhost:8080/",
     "height": 391
    },
    "id": "_pkLAGRwKD7e",
    "outputId": "ffba090f-c596-46a0-818e-4f70fc7687f6"
   },
   "outputs": [
    {
     "data": {
      "text/html": [
       "<div>\n",
       "<style scoped>\n",
       "    .dataframe tbody tr th:only-of-type {\n",
       "        vertical-align: middle;\n",
       "    }\n",
       "\n",
       "    .dataframe tbody tr th {\n",
       "        vertical-align: top;\n",
       "    }\n",
       "\n",
       "    .dataframe thead th {\n",
       "        text-align: right;\n",
       "    }\n",
       "</style>\n",
       "<table border=\"1\" class=\"dataframe\">\n",
       "  <thead>\n",
       "    <tr style=\"text-align: right;\">\n",
       "      <th></th>\n",
       "      <th>Year</th>\n",
       "      <th>Month</th>\n",
       "      <th>Day</th>\n",
       "      <th>Reading_Time</th>\n",
       "    </tr>\n",
       "  </thead>\n",
       "  <tbody>\n",
       "    <tr>\n",
       "      <th>3</th>\n",
       "      <td>-1.170262</td>\n",
       "      <td>0.451345</td>\n",
       "      <td>-1.646118</td>\n",
       "      <td>0.463800</td>\n",
       "    </tr>\n",
       "    <tr>\n",
       "      <th>4</th>\n",
       "      <td>-1.170262</td>\n",
       "      <td>0.451345</td>\n",
       "      <td>-1.646118</td>\n",
       "      <td>-0.262535</td>\n",
       "    </tr>\n",
       "    <tr>\n",
       "      <th>5</th>\n",
       "      <td>-1.170262</td>\n",
       "      <td>0.451345</td>\n",
       "      <td>-1.646118</td>\n",
       "      <td>0.826967</td>\n",
       "    </tr>\n",
       "    <tr>\n",
       "      <th>12</th>\n",
       "      <td>-1.170262</td>\n",
       "      <td>0.451345</td>\n",
       "      <td>-1.532969</td>\n",
       "      <td>-0.262535</td>\n",
       "    </tr>\n",
       "    <tr>\n",
       "      <th>16</th>\n",
       "      <td>-1.170262</td>\n",
       "      <td>0.451345</td>\n",
       "      <td>-1.532969</td>\n",
       "      <td>-0.988870</td>\n",
       "    </tr>\n",
       "    <tr>\n",
       "      <th>...</th>\n",
       "      <td>...</td>\n",
       "      <td>...</td>\n",
       "      <td>...</td>\n",
       "      <td>...</td>\n",
       "    </tr>\n",
       "    <tr>\n",
       "      <th>49979</th>\n",
       "      <td>0.854509</td>\n",
       "      <td>-0.673235</td>\n",
       "      <td>-1.646118</td>\n",
       "      <td>-0.262535</td>\n",
       "    </tr>\n",
       "    <tr>\n",
       "      <th>49982</th>\n",
       "      <td>0.854509</td>\n",
       "      <td>-0.673235</td>\n",
       "      <td>-1.646118</td>\n",
       "      <td>-0.625703</td>\n",
       "    </tr>\n",
       "    <tr>\n",
       "      <th>49987</th>\n",
       "      <td>0.854509</td>\n",
       "      <td>-0.673235</td>\n",
       "      <td>-1.646118</td>\n",
       "      <td>0.826967</td>\n",
       "    </tr>\n",
       "    <tr>\n",
       "      <th>49991</th>\n",
       "      <td>0.854509</td>\n",
       "      <td>-0.673235</td>\n",
       "      <td>-1.646118</td>\n",
       "      <td>-0.625703</td>\n",
       "    </tr>\n",
       "    <tr>\n",
       "      <th>49993</th>\n",
       "      <td>0.854509</td>\n",
       "      <td>-0.673235</td>\n",
       "      <td>-1.646118</td>\n",
       "      <td>-0.625703</td>\n",
       "    </tr>\n",
       "  </tbody>\n",
       "</table>\n",
       "<p>7990 rows × 4 columns</p>\n",
       "</div>"
      ],
      "text/plain": [
       "           Year     Month       Day  Reading_Time\n",
       "3     -1.170262  0.451345 -1.646118      0.463800\n",
       "4     -1.170262  0.451345 -1.646118     -0.262535\n",
       "5     -1.170262  0.451345 -1.646118      0.826967\n",
       "12    -1.170262  0.451345 -1.532969     -0.262535\n",
       "16    -1.170262  0.451345 -1.532969     -0.988870\n",
       "...         ...       ...       ...           ...\n",
       "49979  0.854509 -0.673235 -1.646118     -0.262535\n",
       "49982  0.854509 -0.673235 -1.646118     -0.625703\n",
       "49987  0.854509 -0.673235 -1.646118      0.826967\n",
       "49991  0.854509 -0.673235 -1.646118     -0.625703\n",
       "49993  0.854509 -0.673235 -1.646118     -0.625703\n",
       "\n",
       "[7990 rows x 4 columns]"
      ]
     },
     "execution_count": 21,
     "metadata": {
      "tags": []
     },
     "output_type": "execute_result"
    }
   ],
   "source": [
    "scaler = StandardScaler()\n",
    "df[[\"Year\", \"Month\", \"Day\", \"Reading_Time\"]] = scaler.fit_transform(df[[\"Year\", \"Month\", \"Day\", \"Reading_Time\"]])\n",
    "df[[\"Year\", \"Month\", \"Day\", \"Reading_Time\"]]"
   ]
  },
  {
   "cell_type": "code",
   "execution_count": null,
   "metadata": {
    "colab": {
     "base_uri": "https://localhost:8080/",
     "height": 82
    },
    "id": "Kn9UCwN0Pgl5",
    "outputId": "c8b6fda7-7eb6-457e-b2e9-56f67bc69278"
   },
   "outputs": [
    {
     "name": "stdout",
     "output_type": "stream",
     "text": [
      "-8.378223716245111e-15 1.0001251721116535\n",
      "3.1095971299232012e-15 1.0001251721116535\n",
      "-2.295479895720599e-17 1.0001251721116535\n",
      "-8.180634587206692e-16 1.0001251721116533\n"
     ]
    }
   ],
   "source": [
    "for col in [\"Year\", \"Month\", \"Day\", \"Reading_Time\"]:\n",
    "  v = statistics.variance(df[col])\n",
    "  m = df[col].mean()\n",
    "  print(m, v)"
   ]
  },
  {
   "cell_type": "code",
   "execution_count": null,
   "metadata": {
    "id": "2jjxvdjLL6Vr"
   },
   "outputs": [],
   "source": [
    "df[['text_len', 'number_of_nonalphanum', 'text_len_tokens', 'number_of_caps']] = scaler.fit_transform(df[['text_len', 'number_of_nonalphanum', 'text_len_tokens', 'number_of_caps']])"
   ]
  },
  {
   "cell_type": "code",
   "execution_count": null,
   "metadata": {
    "colab": {
     "base_uri": "https://localhost:8080/",
     "height": 82
    },
    "id": "iStEGMueMdss",
    "outputId": "b181bedf-9356-48b7-80e3-b2efd6b61929"
   },
   "outputs": [
    {
     "name": "stdout",
     "output_type": "stream",
     "text": [
      "7.425571769207556e-17 1.0001251721116535\n",
      "1.572653841390178e-16 1.0001251721116535\n",
      "-7.878553879380022e-17 1.0001251721116537\n",
      "-8.392674679269018e-18 1.0001251721116537\n"
     ]
    }
   ],
   "source": [
    "for col in ['text_len', 'number_of_nonalphanum', 'text_len_tokens', 'number_of_caps']:\n",
    "  v = statistics.variance(df[col])\n",
    "  m = df[col].mean()\n",
    "  print(m, v)"
   ]
  },
  {
   "cell_type": "code",
   "execution_count": null,
   "metadata": {
    "id": "5BYTWJiva8Kb"
   },
   "outputs": [],
   "source": [
    "x_train, x_test, Y_train, Y_test = train_test_split(df[[ 'title_sibtitle', \"Image\", \"Reading_Time\", 'text_len', 'number_of_nonalphanum', 'text_len_tokens', 'number_of_caps']], df['Claps'], test_size=0.3)"
   ]
  },
  {
   "cell_type": "code",
   "execution_count": null,
   "metadata": {
    "id": "iWntaXxQ5lIs"
   },
   "outputs": [],
   "source": [
    "count_vect = CountVectorizer()\n",
    "X_train = count_vect.fit_transform(x_train['title_sibtitle'])\n",
    "X_train = np.concatenate((X_train.toarray(), x_train[['Image', \"Reading_Time\"]].to_numpy()), axis=1)\n",
    "X_test = count_vect.transform(x_test.title_sibtitle)\n",
    "X_test = np.concatenate((X_test.toarray(), x_test[['Image', \"Reading_Time\"]].to_numpy()), axis=1)"
   ]
  },
  {
   "cell_type": "code",
   "execution_count": null,
   "metadata": {
    "id": "ZE3ApAjZOvVJ"
   },
   "outputs": [],
   "source": [
    "X_train_with_new_f = count_vect.fit_transform(x_train['title_sibtitle'])\n",
    "X_train_with_new_f = np.concatenate((X_train_with_new_f.toarray(), x_train[['Image', 'Reading_Time', 'text_len', 'number_of_nonalphanum', 'text_len_tokens', 'number_of_caps']].to_numpy()), axis=1)\n",
    "X_test_with_new_f = count_vect.transform(x_test.title_sibtitle)\n",
    "X_test_with_new_f = np.concatenate((X_test_with_new_f.toarray(), x_test[['Image', 'Reading_Time', 'text_len', 'number_of_nonalphanum', 'text_len_tokens', 'number_of_caps']].to_numpy()), axis=1)"
   ]
  },
  {
   "cell_type": "markdown",
   "metadata": {
    "id": "WPwOQes1OEF0"
   },
   "source": [
    "строю модели"
   ]
  },
  {
   "cell_type": "code",
   "execution_count": null,
   "metadata": {
    "colab": {
     "base_uri": "https://localhost:8080/",
     "height": 98
    },
    "id": "GcTcKSImIjFv",
    "outputId": "9cda0895-3acc-4c46-a3aa-25334eaa155b"
   },
   "outputs": [
    {
     "name": "stdout",
     "output_type": "stream",
     "text": [
      "Requirement already satisfied: sklearn in /usr/local/lib/python3.6/dist-packages (0.0)\n",
      "Requirement already satisfied: scikit-learn in /usr/local/lib/python3.6/dist-packages (from sklearn) (0.22.2.post1)\n",
      "Requirement already satisfied: scipy>=0.17.0 in /usr/local/lib/python3.6/dist-packages (from scikit-learn->sklearn) (1.4.1)\n",
      "Requirement already satisfied: numpy>=1.11.0 in /usr/local/lib/python3.6/dist-packages (from scikit-learn->sklearn) (1.18.5)\n",
      "Requirement already satisfied: joblib>=0.11 in /usr/local/lib/python3.6/dist-packages (from scikit-learn->sklearn) (0.16.0)\n"
     ]
    }
   ],
   "source": [
    "!pip install sklearn"
   ]
  },
  {
   "cell_type": "code",
   "execution_count": null,
   "metadata": {
    "id": "rIt-emJHy6vq"
   },
   "outputs": [],
   "source": [
    "from sklearn.metrics import mean_squared_error\n",
    "from sklearn.linear_model import LinearRegression, Ridge, Lasso, ElasticNet"
   ]
  },
  {
   "cell_type": "code",
   "execution_count": null,
   "metadata": {
    "colab": {
     "base_uri": "https://localhost:8080/",
     "height": 196
    },
    "id": "9wmOPyDbH-3F",
    "outputId": "44564b95-ddce-4d2e-c485-8e76696018ed"
   },
   "outputs": [
    {
     "name": "stdout",
     "output_type": "stream",
     "text": [
      "Requirement already satisfied: eli5 in /usr/local/lib/python3.6/dist-packages (0.10.1)\n",
      "Requirement already satisfied: graphviz in /usr/local/lib/python3.6/dist-packages (from eli5) (0.10.1)\n",
      "Requirement already satisfied: six in /usr/local/lib/python3.6/dist-packages (from eli5) (1.15.0)\n",
      "Requirement already satisfied: tabulate>=0.7.7 in /usr/local/lib/python3.6/dist-packages (from eli5) (0.8.7)\n",
      "Requirement already satisfied: scikit-learn>=0.18 in /usr/local/lib/python3.6/dist-packages (from eli5) (0.22.2.post1)\n",
      "Requirement already satisfied: scipy in /usr/local/lib/python3.6/dist-packages (from eli5) (1.4.1)\n",
      "Requirement already satisfied: attrs>16.0.0 in /usr/local/lib/python3.6/dist-packages (from eli5) (20.2.0)\n",
      "Requirement already satisfied: numpy>=1.9.0 in /usr/local/lib/python3.6/dist-packages (from eli5) (1.18.5)\n",
      "Requirement already satisfied: jinja2 in /usr/local/lib/python3.6/dist-packages (from eli5) (2.11.2)\n",
      "Requirement already satisfied: joblib>=0.11 in /usr/local/lib/python3.6/dist-packages (from scikit-learn>=0.18->eli5) (0.16.0)\n",
      "Requirement already satisfied: MarkupSafe>=0.23 in /usr/local/lib/python3.6/dist-packages (from jinja2->eli5) (1.1.1)\n"
     ]
    }
   ],
   "source": [
    "!pip install eli5\n",
    "import eli5\n",
    "from eli5.sklearn import PermutationImportance"
   ]
  },
  {
   "cell_type": "code",
   "execution_count": null,
   "metadata": {
    "id": "0l4u6eRkaL__"
   },
   "outputs": [],
   "source": [
    "def find_top_f(model, n):\n",
    "  eli5_weights = eli5.formatters.as_dataframe.explain_weights_df(model)\n",
    "  print(eli5_weights.shape)\n",
    "  top_features = [int(i[1:]) for i in eli5_weights.feature if 'BIAS' not in i][:n]\n",
    "  return top_features"
   ]
  },
  {
   "cell_type": "markdown",
   "metadata": {},
   "source": [
    "# ridge"
   ]
  },
  {
   "cell_type": "code",
   "execution_count": null,
   "metadata": {
    "id": "1QfxP7NCWY7j"
   },
   "outputs": [],
   "source": [
    "ridge = Ridge(alpha=1)\n",
    "model_ridge = ridge.fit(X_train, Y_train)\n",
    "x_pred_ridge = model_ridge.predict(X_test)"
   ]
  },
  {
   "cell_type": "code",
   "execution_count": null,
   "metadata": {
    "id": "C1NYK2PqRyYR"
   },
   "outputs": [],
   "source": [
    "model_ridge_with_new_f = ridge.fit(X_train_with_new_f, Y_train)\n",
    "x_pred_ridge_with_new_f = model_ridge_with_new_f.predict(X_test_with_new_f)"
   ]
  },
  {
   "cell_type": "markdown",
   "metadata": {
    "id": "W70v95U5bF2d"
   },
   "source": [
    "нахожу важные признаки\n"
   ]
  },
  {
   "cell_type": "code",
   "execution_count": null,
   "metadata": {
    "colab": {
     "base_uri": "https://localhost:8080/",
     "height": 33
    },
    "id": "IYsJxiCDZUXX",
    "outputId": "7deb1df3-a112-4fb3-e976-9ffa79f40ec5"
   },
   "outputs": [
    {
     "name": "stdout",
     "output_type": "stream",
     "text": [
      "(19011, 3)\n"
     ]
    }
   ],
   "source": [
    "top_features = find_top_f(model_ridge, 100)\n",
    "X_train_eli5 = X_train[:,top_features]\n",
    "X_test_eli5 = X_test[:,top_features]\n",
    "\n",
    "ridge_eli5 = Ridge()\n",
    "model_ridge_eli5 = ridge_eli5.fit(X_train_eli5, Y_train)\n",
    "x_pred_ridge_eli5 = model_ridge_eli5.predict(X_test_eli5)"
   ]
  },
  {
   "cell_type": "markdown",
   "metadata": {
    "id": "XEK0QGdiTAzv"
   },
   "source": [
    "нахожу важные признаки с добавлением своих"
   ]
  },
  {
   "cell_type": "code",
   "execution_count": null,
   "metadata": {
    "colab": {
     "base_uri": "https://localhost:8080/",
     "height": 33
    },
    "id": "pubRB4TwTB7y",
    "outputId": "8e6332a8-1269-45f2-c421-182a9b33c488"
   },
   "outputs": [
    {
     "name": "stdout",
     "output_type": "stream",
     "text": [
      "(19011, 3)\n"
     ]
    }
   ],
   "source": [
    "top_features = find_top_f(model_ridge_with_new_f, 100)\n",
    "X_train_eli5 = X_train_with_new_f[:,top_features]\n",
    "X_test_eli5 = X_test_with_new_f[:,top_features]\n",
    "\n",
    "ridge_eli5 = Ridge()\n",
    "model_ridge_eli5 = ridge_eli5.fit(X_train_eli5, Y_train)\n",
    "x_pred_ridge_eli5_with_new_f = model_ridge_eli5.predict(X_test_eli5)"
   ]
  },
  {
   "cell_type": "markdown",
   "metadata": {},
   "source": [
    "# lasso"
   ]
  },
  {
   "cell_type": "code",
   "execution_count": null,
   "metadata": {
    "id": "qsnSoFAa8mcn"
   },
   "outputs": [],
   "source": [
    "lasso = Lasso()\n",
    "model_lasso = lasso.fit(X_train, Y_train)\n",
    "x_pred_lasso = model_lasso.predict(X_test)"
   ]
  },
  {
   "cell_type": "code",
   "execution_count": null,
   "metadata": {
    "id": "n-BufcElSnNX"
   },
   "outputs": [],
   "source": [
    "model_lasso_with_new_f = lasso.fit(X_train_with_new_f, Y_train)\n",
    "x_pred_lasso_with_new_f = model_lasso_with_new_f.predict(X_test_with_new_f)"
   ]
  },
  {
   "cell_type": "markdown",
   "metadata": {
    "id": "jQMNnZNzOJu0"
   },
   "source": [
    "нахожу важные признаки\n"
   ]
  },
  {
   "cell_type": "code",
   "execution_count": null,
   "metadata": {
    "colab": {
     "base_uri": "https://localhost:8080/",
     "height": 33
    },
    "id": "-oueY1_-ZIPI",
    "outputId": "2ea09c72-a0bf-4c60-bfea-fabc7d9b5bc8"
   },
   "outputs": [
    {
     "name": "stdout",
     "output_type": "stream",
     "text": [
      "(102, 3)\n"
     ]
    }
   ],
   "source": [
    "top_features = find_top_f(model_lasso, 70)\n",
    "X_train_eli5 = X_train[:,top_features]\n",
    "X_test_eli5 = X_test[:,top_features]\n",
    "\n",
    "lasso_eli5 = Lasso()\n",
    "model_lasso_eli5 = lasso_eli5.fit(X_train_eli5, Y_train)\n",
    "x_pred_lasso_eli5 = model_lasso_eli5.predict(X_test_eli5)"
   ]
  },
  {
   "cell_type": "markdown",
   "metadata": {
    "id": "CPQQwVHZS6mA"
   },
   "source": [
    "нахожу важные признаки с добавлением своих"
   ]
  },
  {
   "cell_type": "code",
   "execution_count": null,
   "metadata": {
    "colab": {
     "base_uri": "https://localhost:8080/",
     "height": 33
    },
    "id": "lrEbsvPPS5yy",
    "outputId": "6f576876-312e-479a-b96b-a9ab8cfb80ed"
   },
   "outputs": [
    {
     "name": "stdout",
     "output_type": "stream",
     "text": [
      "(102, 3)\n"
     ]
    }
   ],
   "source": [
    "top_features = find_top_f(model_lasso_with_new_f, 70)\n",
    "X_train_eli5 = X_train_with_new_f[:,top_features]\n",
    "X_test_eli5 = X_test_with_new_f[:,top_features]\n",
    "\n",
    "lasso_eli5 = Lasso()\n",
    "model_lasso_eli5 = lasso_eli5.fit(X_train_eli5, Y_train)\n",
    "x_pred_lasso_eli5_with_new_f = model_lasso_eli5.predict(X_test_eli5)"
   ]
  },
  {
   "cell_type": "code",
   "execution_count": null,
   "metadata": {
    "id": "FKHYS8959n5L"
   },
   "outputs": [],
   "source": [
    "# linearregression = LinearRegression()\n",
    "# model_linear = linearregression.fit(X_train, Y_train)\n",
    "# x_pred_linear = model_linear.predict(X_test)"
   ]
  },
  {
   "cell_type": "code",
   "execution_count": null,
   "metadata": {
    "id": "7K6QHDMSJKOQ"
   },
   "outputs": [],
   "source": [
    "from sklearn.metrics import r2_score"
   ]
  },
  {
   "cell_type": "code",
   "execution_count": null,
   "metadata": {
    "colab": {
     "base_uri": "https://localhost:8080/",
     "height": 391
    },
    "id": "zUErz7_YmIVo",
    "outputId": "f2914f6e-56f2-4713-be4c-ce526ecaa449"
   },
   "outputs": [
    {
     "name": "stdout",
     "output_type": "stream",
     "text": [
      "ridge, rmse:\n",
      "424.66799180994667\n",
      "329.2144629605109\n",
      "424.45177357237714\n",
      "329.2144629605109\n",
      "\n",
      "lasso, rmse:\n",
      "309.5579198945316\n",
      "308.7077846775527\n",
      "309.3496698531263\n",
      "308.7077846775527\n",
      "\n",
      "ridge, r^2:\n",
      "-0.7289499398549988\n",
      "-0.039061311267442944\n",
      "-0.7271898103006424\n",
      "-0.039061311267442944\n",
      "\n",
      "lasso, r^2:\n",
      "0.08131378166578651\n",
      "0.08635280681514346\n",
      "0.08254942823275879\n",
      "0.08635280681514346\n"
     ]
    }
   ],
   "source": [
    "print('ridge, rmse:')\n",
    "print(np.sqrt(mean_squared_error(Y_test, x_pred_ridge)))\n",
    "print(np.sqrt(mean_squared_error(Y_test, x_pred_ridge_eli5)))\n",
    "print(np.sqrt(mean_squared_error(Y_test, x_pred_ridge_with_new_f)))\n",
    "print(np.sqrt(mean_squared_error(Y_test, x_pred_ridge_eli5_with_new_f)))\n",
    "print()\n",
    "print('lasso, rmse:')\n",
    "print(np.sqrt(mean_squared_error(Y_test, x_pred_lasso)))\n",
    "print(np.sqrt(mean_squared_error(Y_test, x_pred_lasso_eli5)))\n",
    "print(np.sqrt(mean_squared_error(Y_test, x_pred_lasso_with_new_f)))\n",
    "print(np.sqrt(mean_squared_error(Y_test, x_pred_lasso_eli5_with_new_f)))\n",
    "\n",
    "# print(np.sqrt(mean_squared_error(Y_test, x_pred_linear)))\n",
    "print()\n",
    "print('ridge, r^2:')\n",
    "print(r2_score(Y_test, x_pred_ridge))\n",
    "print(r2_score(Y_test, x_pred_ridge_eli5))\n",
    "print(r2_score(Y_test, x_pred_ridge_with_new_f))\n",
    "print(r2_score(Y_test, x_pred_ridge_eli5_with_new_f))\n",
    "print()\n",
    "print('lasso, r^2:')\n",
    "print(r2_score(Y_test, x_pred_lasso))\n",
    "print(r2_score(Y_test, x_pred_lasso_eli5))\n",
    "print(r2_score(Y_test, x_pred_lasso_with_new_f))\n",
    "print(r2_score(Y_test, x_pred_lasso_eli5_with_new_f))\n",
    "# print(r2_score(Y_test, x_pred_linear))"
   ]
  },
  {
   "cell_type": "markdown",
   "metadata": {
    "id": "Iw6jgN6ZVQDP"
   },
   "source": [
    "здесь первое значение - модель с признаками которой я ничего не делала\n",
    "\n",
    "второе - выбираю и оставляю только важные признаки\n",
    "\n",
    "третье - добавляю свои признаки к неотсортированным по важности признакам\n",
    "\n",
    "четвертое - добавляю свои признаки и выбираю и оставляю только важные признаки"
   ]
  },
  {
   "cell_type": "markdown",
   "metadata": {
    "id": "W1Us4SDtWUzc"
   },
   "source": [
    "Из этих результатов видно, что lasso хорошо умеет выбирать важные признаки в отличие от ridge, именно поэтому качество модели ridge сильно улучшается при использовании ridge + eli5, а качество модели lasso не претерпевает сильных изменений \n",
    "\n",
    "Возможно, довольно низкое значение коэфициента детерминации что в первом, что во втором случае обусловленно недостатком более важных признаков, которых нет среди датасета и которые нельзя получить из имеющихся текстовых данных. Также можно было бы уменьшить размерность матрицы векторного представления текстов, чтобы матрица векторов не была разреженной.\n",
    "\n",
    "лучший результат дает модель lasso + eli5 + new_features\n"
   ]
  },
  {
   "cell_type": "markdown",
   "metadata": {
    "id": "4UkNs-WObcK-"
   },
   "source": [
    "**Grid Search**"
   ]
  },
  {
   "cell_type": "code",
   "execution_count": null,
   "metadata": {
    "id": "DIxu2yTKeyeO"
   },
   "outputs": [],
   "source": [
    "from sklearn.model_selection import GridSearchCV"
   ]
  },
  {
   "cell_type": "code",
   "execution_count": null,
   "metadata": {
    "colab": {
     "base_uri": "https://localhost:8080/",
     "height": 50
    },
    "id": "3jMwpUGwUKoy",
    "outputId": "22c9f6a9-33de-423e-80c4-69488d7629ff"
   },
   "outputs": [
    {
     "name": "stdout",
     "output_type": "stream",
     "text": [
      "Best score: -143597.1723015506\n",
      "Best parameters: {'alpha': 1, 'normalize': False, 'positive': False, 'selection': 'cyclic'}\n"
     ]
    }
   ],
   "source": [
    "lasso = Lasso()\n",
    "\n",
    "parameters = {'alpha': [1, 3, 5], 'normalize':[False, True], 'positive':[False, True], 'selection':['cyclic', 'random']}\n",
    "lasso_regressor = GridSearchCV(lasso, parameters, scoring='neg_mean_squared_error', cv = 3)\n",
    "lasso_regressor.fit(X_train, Y_train)\n",
    "\n",
    "print('Best score: {}'.format(lasso_regressor.best_score_))\n",
    "print('Best parameters: {}'.format(lasso_regressor.best_params_))"
   ]
  },
  {
   "cell_type": "code",
   "execution_count": null,
   "metadata": {
    "colab": {
     "base_uri": "https://localhost:8080/",
     "height": 33
    },
    "id": "EuyHKQ58jA7l",
    "outputId": "d41b7897-53d0-4de6-ccfb-a0716e863f5a"
   },
   "outputs": [
    {
     "data": {
      "text/plain": [
       "281.35402195120884"
      ]
     },
     "execution_count": 121,
     "metadata": {
      "tags": []
     },
     "output_type": "execute_result"
    }
   ],
   "source": [
    "model_lasso_best = lasso_regressor.best_estimator_.fit(X_train, Y_train)\n",
    "model_lasso_best_pred = model_lasso_best.predict(X_test)\n",
    "np.sqrt(mean_squared_error(Y_test, model_lasso_best_pred))"
   ]
  },
  {
   "cell_type": "markdown",
   "metadata": {
    "id": "5xopeykJZIgZ"
   },
   "source": [
    "среднеквадратичная ошибка для модели lasso с наилучшими гиперпарамметрами\n"
   ]
  },
  {
   "cell_type": "code",
   "execution_count": null,
   "metadata": {
    "colab": {
     "base_uri": "https://localhost:8080/",
     "height": 50
    },
    "id": "kmKZ1lOIR-Wl",
    "outputId": "3064cdca-8d78-41e2-e21b-841ba6ce6a4f"
   },
   "outputs": [
    {
     "name": "stdout",
     "output_type": "stream",
     "text": [
      "Best score: -131734.22994299556\n",
      "Best parameters: {'alpha': 5, 'normalize': True, 'solver': 'svd'}\n"
     ]
    }
   ],
   "source": [
    "ridge = Ridge()\n",
    "\n",
    "parameters = {'alpha': [1, 3, 5], 'normalize':[False, True], 'solver': ['auto', 'svd']}\n",
    "ridge_regressor = GridSearchCV(ridge, parameters, scoring='neg_mean_squared_error', cv = 3)\n",
    "ridge_regressor.fit(X_train, Y_train)\n",
    "\n",
    "print('Best score: {}'.format(ridge_regressor.best_score_))\n",
    "print('Best parameters: {}'.format(ridge_regressor.best_params_))"
   ]
  },
  {
   "cell_type": "code",
   "execution_count": null,
   "metadata": {
    "colab": {
     "base_uri": "https://localhost:8080/",
     "height": 33
    },
    "id": "Paf21XVWRUH9",
    "outputId": "99718ce0-4759-4e55-9d07-3ab979be7b28"
   },
   "outputs": [
    {
     "data": {
      "text/plain": [
       "348.7486330080029"
      ]
     },
     "execution_count": 33,
     "metadata": {
      "tags": []
     },
     "output_type": "execute_result"
    }
   ],
   "source": [
    "model_ridge_best = ridge_regressor.best_estimator_.fit(X_train, Y_train)\n",
    "model_ridge_best_pred = model_ridge_best.predict(X_test)\n",
    "np.sqrt(mean_squared_error(Y_test, model_ridge_best_pred))"
   ]
  },
  {
   "cell_type": "markdown",
   "metadata": {
    "id": "yv5BEezbBAvD"
   },
   "source": [
    "среднеквадратичная ошибка для модели ridge с наилучшими гиперпарамметрами\n"
   ]
  },
  {
   "cell_type": "markdown",
   "metadata": {
    "id": "nuD5zaHb8j2Q"
   },
   "source": [
    "**аугментация данных на примере первых трех строк фрейма**"
   ]
  },
  {
   "cell_type": "code",
   "execution_count": null,
   "metadata": {
    "colab": {
     "base_uri": "https://localhost:8080/",
     "height": 358
    },
    "id": "wywdOy0yoNqu",
    "outputId": "b9c10970-5399-4285-8e94-edff6d3f4502"
   },
   "outputs": [
    {
     "name": "stdout",
     "output_type": "stream",
     "text": [
      "--2020-10-18 11:57:43--  http://vectors.nlpl.eu/repository/20/5.zip\n",
      "Resolving vectors.nlpl.eu (vectors.nlpl.eu)... 129.240.189.225\n",
      "Connecting to vectors.nlpl.eu (vectors.nlpl.eu)|129.240.189.225|:80... connected.\n",
      "HTTP request sent, awaiting response... 206 Partial Content\n",
      "Length: 574653290 (548M), 572306357 (546M) remaining [application/zip]\n",
      "Saving to: ‘5.zip’\n",
      "\n",
      "5.zip               100%[===================>] 548.03M  9.56MB/s    in 66s     \n",
      "\n",
      "2020-10-18 11:58:51 (8.22 MB/s) - ‘5.zip’ saved [574653290/574653290]\n",
      "\n",
      "Archive:  5.zip\n",
      "replace meta.json? [y]es, [n]o, [A]ll, [N]one, [r]ename: y\n",
      "  inflating: meta.json               \n",
      "replace model.bin? [y]es, [n]o, [A]ll, [N]one, [r]ename: y\n",
      "  inflating: model.bin               y\n",
      "\n",
      "replace model.txt? [y]es, [n]o, [A]ll, [N]one, [r]ename:   inflating: model.txt               y\n",
      "y\n",
      "\n",
      "replace README? [y]es, [n]o, [A]ll, [N]one, [r]ename:   inflating: README                  \n"
     ]
    }
   ],
   "source": [
    "!wget -c http://vectors.nlpl.eu/repository/20/5.zip\n",
    "!unzip 5.zip"
   ]
  },
  {
   "cell_type": "code",
   "execution_count": null,
   "metadata": {
    "colab": {
     "base_uri": "https://localhost:8080/",
     "height": 70
    },
    "id": "MRb6QykNo9-I",
    "outputId": "579924e8-e58e-454e-ddd3-6d485e6b3e2a"
   },
   "outputs": [
    {
     "name": "stderr",
     "output_type": "stream",
     "text": [
      "/usr/local/lib/python3.6/dist-packages/smart_open/smart_open_lib.py:252: UserWarning: This function is deprecated, use smart_open.open instead. See the migration notes for details: https://github.com/RaRe-Technologies/smart_open/blob/master/README.rst#migrating-to-the-new-open-function\n",
      "  'See the migration notes for details: %s' % _MIGRATION_NOTES_URL\n"
     ]
    }
   ],
   "source": [
    "warnings.simplefilter(action='ignore', category=FutureWarning)\n",
    "model = gensim.models.KeyedVectors.load_word2vec_format(\"model.bin\", binary=True)\n",
    "model.init_sims(replace=True)"
   ]
  },
  {
   "cell_type": "code",
   "execution_count": null,
   "metadata": {
    "colab": {
     "base_uri": "https://localhost:8080/",
     "height": 66
    },
    "id": "TPj0MR1ppkgW",
    "outputId": "6dbe3eed-bc12-4d6d-d45d-88a518f212b9"
   },
   "outputs": [
    {
     "name": "stdout",
     "output_type": "stream",
     "text": [
      "[nltk_data] Downloading package wordnet to /root/nltk_data...\n",
      "[nltk_data]   Unzipping corpora/wordnet.zip.\n",
      "bat\n"
     ]
    }
   ],
   "source": [
    "import nltk\n",
    "nltk.download('wordnet')\n",
    "from nltk.stem import WordNetLemmatizer \n",
    "lemmatizer = WordNetLemmatizer()"
   ]
  },
  {
   "cell_type": "code",
   "execution_count": null,
   "metadata": {
    "id": "dC5h_9S8InRn"
   },
   "outputs": [],
   "source": [
    "def augment_word2vec_pos(sentence, model=model):\n",
    "    sent_aug = []\n",
    "    for word in sentence.split(' '):\n",
    "        normal_form = lemmatizer.lemmatize(word)\n",
    "        if normal_form in model:\n",
    "            for i in model.most_similar(positive=[normal_form], topn = 1):\n",
    "                word_aug = i[0]\n",
    "                sent_aug.append(word_aug)\n",
    "        else:\n",
    "            sent_aug.append(word)\n",
    "\n",
    "    str_sent =' '.join(sent_aug)\n",
    "    return str_sent"
   ]
  },
  {
   "cell_type": "code",
   "execution_count": null,
   "metadata": {
    "id": "ZM9lgqMdl4Ns"
   },
   "outputs": [],
   "source": [
    "df1 = pd.DataFrame(columns = ['aug_data', \"Year\", \"Month\", \"Day\", \"Reading_Time\"])\n",
    "df1['aug_data'] = df['title_sibtitle'][:3].apply(augment_word2vec_pos)\n",
    "df1[[\"Year\", \"Month\", \"Day\", \"Reading_Time\"]] = df[[\"Year\", \"Month\", \"Day\", \"Reading_Time\"]]"
   ]
  },
  {
   "cell_type": "code",
   "execution_count": null,
   "metadata": {
    "colab": {
     "base_uri": "https://localhost:8080/",
     "height": 133
    },
    "id": "4FP50yGr6v4p",
    "outputId": "f3ed78eb-8ceb-4113-cdf7-cd6cc5104d7f"
   },
   "outputs": [
    {
     "data": {
      "text/html": [
       "<div>\n",
       "<style scoped>\n",
       "    .dataframe tbody tr th:only-of-type {\n",
       "        vertical-align: middle;\n",
       "    }\n",
       "\n",
       "    .dataframe tbody tr th {\n",
       "        vertical-align: top;\n",
       "    }\n",
       "\n",
       "    .dataframe thead th {\n",
       "        text-align: right;\n",
       "    }\n",
       "</style>\n",
       "<table border=\"1\" class=\"dataframe\">\n",
       "  <thead>\n",
       "    <tr style=\"text-align: right;\">\n",
       "      <th></th>\n",
       "      <th>aug_data</th>\n",
       "      <th>Year</th>\n",
       "      <th>Month</th>\n",
       "      <th>Day</th>\n",
       "      <th>Reading_Time</th>\n",
       "    </tr>\n",
       "  </thead>\n",
       "  <tbody>\n",
       "    <tr>\n",
       "      <th>0</th>\n",
       "      <td>on-line animator mixamo vs norah AI on-line an...</td>\n",
       "      <td>2017</td>\n",
       "      <td>8</td>\n",
       "      <td>1</td>\n",
       "      <td>5</td>\n",
       "    </tr>\n",
       "    <tr>\n",
       "      <th>2</th>\n",
       "      <td>not-too-distant and AI unfriendly AI from Phys...</td>\n",
       "      <td>2017</td>\n",
       "      <td>8</td>\n",
       "      <td>1</td>\n",
       "      <td>3</td>\n",
       "    </tr>\n",
       "    <tr>\n",
       "      <th>3</th>\n",
       "      <td>of intrinsic generated through AI LED Mindfuln...</td>\n",
       "      <td>2017</td>\n",
       "      <td>8</td>\n",
       "      <td>1</td>\n",
       "      <td>5</td>\n",
       "    </tr>\n",
       "  </tbody>\n",
       "</table>\n",
       "</div>"
      ],
      "text/plain": [
       "                                            aug_data  Year  ...  Day  Reading_Time\n",
       "0  on-line animator mixamo vs norah AI on-line an...  2017  ...    1             5\n",
       "2  not-too-distant and AI unfriendly AI from Phys...  2017  ...    1             3\n",
       "3  of intrinsic generated through AI LED Mindfuln...  2017  ...    1             5\n",
       "\n",
       "[3 rows x 5 columns]"
      ]
     },
     "execution_count": 297,
     "metadata": {
      "tags": []
     },
     "output_type": "execute_result"
    }
   ],
   "source": [
    "df1"
   ]
  },
  {
   "cell_type": "code",
   "execution_count": null,
   "metadata": {
    "colab": {
     "base_uri": "https://localhost:8080/",
     "height": 133
    },
    "id": "zXhMd0WU6xFi",
    "outputId": "2a78de30-4109-4292-988e-b30e9c5c5133"
   },
   "outputs": [
    {
     "data": {
      "text/html": [
       "<div>\n",
       "<style scoped>\n",
       "    .dataframe tbody tr th:only-of-type {\n",
       "        vertical-align: middle;\n",
       "    }\n",
       "\n",
       "    .dataframe tbody tr th {\n",
       "        vertical-align: top;\n",
       "    }\n",
       "\n",
       "    .dataframe thead th {\n",
       "        text-align: right;\n",
       "    }\n",
       "</style>\n",
       "<table border=\"1\" class=\"dataframe\">\n",
       "  <thead>\n",
       "    <tr style=\"text-align: right;\">\n",
       "      <th></th>\n",
       "      <th>title_sibtitle</th>\n",
       "      <th>Year</th>\n",
       "      <th>Month</th>\n",
       "      <th>Day</th>\n",
       "      <th>Reading_Time</th>\n",
       "    </tr>\n",
       "  </thead>\n",
       "  <tbody>\n",
       "    <tr>\n",
       "      <th>0</th>\n",
       "      <td>online animation mixamo vs norah ai online ani...</td>\n",
       "      <td>2017</td>\n",
       "      <td>8</td>\n",
       "      <td>1</td>\n",
       "      <td>5</td>\n",
       "    </tr>\n",
       "    <tr>\n",
       "      <th>2</th>\n",
       "      <td>futures of ai friendly ai from physics of the ...</td>\n",
       "      <td>2017</td>\n",
       "      <td>8</td>\n",
       "      <td>1</td>\n",
       "      <td>3</td>\n",
       "    </tr>\n",
       "    <tr>\n",
       "      <th>3</th>\n",
       "      <td>the value generated through ai led mindfulness...</td>\n",
       "      <td>2017</td>\n",
       "      <td>8</td>\n",
       "      <td>1</td>\n",
       "      <td>5</td>\n",
       "    </tr>\n",
       "  </tbody>\n",
       "</table>\n",
       "</div>"
      ],
      "text/plain": [
       "                                      title_sibtitle  Year  ...  Day  Reading_Time\n",
       "0  online animation mixamo vs norah ai online ani...  2017  ...    1             5\n",
       "2  futures of ai friendly ai from physics of the ...  2017  ...    1             3\n",
       "3  the value generated through ai led mindfulness...  2017  ...    1             5\n",
       "\n",
       "[3 rows x 5 columns]"
      ]
     },
     "execution_count": 299,
     "metadata": {
      "tags": []
     },
     "output_type": "execute_result"
    }
   ],
   "source": [
    "df[['title_sibtitle', \"Year\", \"Month\", \"Day\", \"Reading_Time\"]][:3]"
   ]
  },
  {
   "cell_type": "code",
   "execution_count": null,
   "metadata": {
    "id": "Accykv2368gm"
   },
   "outputs": [],
   "source": []
  },
  {
   "cell_type": "markdown",
   "metadata": {
    "id": "jQtDYUF6WIRM"
   },
   "source": [
    "анализ результатов"
   ]
  },
  {
   "cell_type": "markdown",
   "metadata": {
    "id": "fF-NnM4iaRsy"
   },
   "source": [
    "низкое качество предсказания моделей может быть обусловленно недостатком признаков, плохой обработкой текста (я не удаляла стопслова, не лемматизировала текст т.д.), а также тем, что я не взяла все данные из исходного датасета, однако это у меня  не получилось сделать, потому что ОЗУ в колабе переполнялось и прога останавливалась еще на этапе векторизации."
   ]
  },
  {
   "cell_type": "code",
   "execution_count": null,
   "metadata": {},
   "outputs": [],
   "source": []
  }
 ],
 "metadata": {
  "colab": {
   "collapsed_sections": [],
   "name": "compling_hw4.ipynb",
   "provenance": []
  },
  "kernelspec": {
   "display_name": "Python 3",
   "language": "python",
   "name": "python3"
  },
  "language_info": {
   "codemirror_mode": {
    "name": "ipython",
    "version": 3
   },
   "file_extension": ".py",
   "mimetype": "text/x-python",
   "name": "python",
   "nbconvert_exporter": "python",
   "pygments_lexer": "ipython3",
   "version": "3.8.3"
  }
 },
 "nbformat": 4,
 "nbformat_minor": 1
}
