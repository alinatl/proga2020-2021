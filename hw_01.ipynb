{
  "nbformat": 4,
  "nbformat_minor": 0,
  "metadata": {
    "colab": {
      "name": "hw_01.ipynb",
      "provenance": [],
      "collapsed_sections": []
    },
    "kernelspec": {
      "name": "python3",
      "display_name": "Python 3"
    }
  },
  "cells": [
    {
      "cell_type": "markdown",
      "metadata": {
        "id": "nzfD_Wk1ZN6L",
        "colab_type": "text"
      },
      "source": [
        "# Домашнее задание №1\n",
        "\n",
        "### **Dataset of depressive posts in Russian language collected from social media** [(paper)](https://www.sciencedirect.com/science/article/pii/S2352340920300895)\n",
        "\n",
        "Скачать датасет в формате .tsv можно [здесь](https://yadi.sk/d/G5rq-R3AK8SOuw).\n",
        "\n",
        "\n",
        "В качестве задания предлагается:\n",
        "1. Использовать ```pandas``` и ряд инструментов для автоматической обработки текстов на русском языке, чтобы ответить на вопросы.\n",
        "2. Написать функции для извлечения текстовых признаков.\n",
        "\n",
        "Не рекомендуется использовать ```nltk``` для сегментации/токенизации текстов, поскольку существуют инструменты, которые выполняют свою задачу для русского значительно лучше – их мы обсуждали с вами на занятии.\n",
        "\n",
        "\n",
        "**Дедлайн**: 23 сентября 23:59"
      ]
    },
    {
      "cell_type": "code",
      "metadata": {
        "id": "9tsSaFBdgu1B",
        "colab_type": "code",
        "colab": {
          "base_uri": "https://localhost:8080/",
          "height": 191
        },
        "outputId": "b268199d-b7d2-4d11-de11-31957f231928"
      },
      "source": [
        "import pandas as pd\n",
        "\n",
        "df = pd.read_csv(\"depression_data.tsv\", sep=\"\\t\")\n",
        "df.head()"
      ],
      "execution_count": 1,
      "outputs": [
        {
          "output_type": "execute_result",
          "data": {
            "text/html": [
              "<div>\n",
              "<style scoped>\n",
              "    .dataframe tbody tr th:only-of-type {\n",
              "        vertical-align: middle;\n",
              "    }\n",
              "\n",
              "    .dataframe tbody tr th {\n",
              "        vertical-align: top;\n",
              "    }\n",
              "\n",
              "    .dataframe thead th {\n",
              "        text-align: right;\n",
              "    }\n",
              "</style>\n",
              "<table border=\"1\" class=\"dataframe\">\n",
              "  <thead>\n",
              "    <tr style=\"text-align: right;\">\n",
              "      <th></th>\n",
              "      <th>text</th>\n",
              "      <th>label</th>\n",
              "      <th>age</th>\n",
              "    </tr>\n",
              "  </thead>\n",
              "  <tbody>\n",
              "    <tr>\n",
              "      <th>0</th>\n",
              "      <td>Когда-то я был добрым романтиком, который стре...</td>\n",
              "      <td>1</td>\n",
              "      <td>32.0</td>\n",
              "    </tr>\n",
              "    <tr>\n",
              "      <th>1</th>\n",
              "      <td>Здраствуйте! Я каждый день просыпаюсь с мыслью...</td>\n",
              "      <td>1</td>\n",
              "      <td>28.0</td>\n",
              "    </tr>\n",
              "    <tr>\n",
              "      <th>2</th>\n",
              "      <td>У меня проблемы с девушкой. Каждую ссору я не ...</td>\n",
              "      <td>1</td>\n",
              "      <td>16.0</td>\n",
              "    </tr>\n",
              "    <tr>\n",
              "      <th>3</th>\n",
              "      <td>Вся моя жизнь это один сплошной ад, в котором ...</td>\n",
              "      <td>1</td>\n",
              "      <td>32.0</td>\n",
              "    </tr>\n",
              "    <tr>\n",
              "      <th>4</th>\n",
              "      <td>Я хочу уснуть и не проснуться.каждый день одно...</td>\n",
              "      <td>1</td>\n",
              "      <td>14.0</td>\n",
              "    </tr>\n",
              "  </tbody>\n",
              "</table>\n",
              "</div>"
            ],
            "text/plain": [
              "                                                text  label   age\n",
              "0  Когда-то я был добрым романтиком, который стре...      1  32.0\n",
              "1  Здраствуйте! Я каждый день просыпаюсь с мыслью...      1  28.0\n",
              "2  У меня проблемы с девушкой. Каждую ссору я не ...      1  16.0\n",
              "3  Вся моя жизнь это один сплошной ад, в котором ...      1  32.0\n",
              "4  Я хочу уснуть и не проснуться.каждый день одно...      1  14.0"
            ]
          },
          "metadata": {
            "tags": []
          },
          "execution_count": 1
        }
      ]
    },
    {
      "cell_type": "markdown",
      "metadata": {
        "id": "jgwa7XyGfuCI",
        "colab_type": "text"
      },
      "source": [
        "### Часть 1: Простая статистика (2 балла)"
      ]
    },
    {
      "cell_type": "markdown",
      "metadata": {
        "id": "YP1iOWbjh2zw",
        "colab_type": "text"
      },
      "source": [
        "Зачастую в данных, с которыми вы работаете, может быть много неприятных для обработки вещей. Например, мы видим, что в колонке ```age``` очень грязные значения."
      ]
    },
    {
      "cell_type": "code",
      "metadata": {
        "id": "uDW6JMhwZuS8",
        "colab_type": "code",
        "colab": {
          "base_uri": "https://localhost:8080/",
          "height": 212
        },
        "outputId": "780059ba-2070-4a96-e3ff-3f96a8e876d9"
      },
      "source": [
        "df[\"age\"].value_counts()"
      ],
      "execution_count": 2,
      "outputs": [
        {
          "output_type": "execute_result",
          "data": {
            "text/plain": [
              "16.0      1823\n",
              "17.0      1811\n",
              "18.0      1661\n",
              "15.0      1582\n",
              "20.0      1543\n",
              "          ... \n",
              "116.0        1\n",
              "295.0        1\n",
              "2425.0       1\n",
              "92.0         1\n",
              "830.0        1\n",
              "Name: age, Length: 128, dtype: int64"
            ]
          },
          "metadata": {
            "tags": []
          },
          "execution_count": 2
        }
      ]
    },
    {
      "cell_type": "markdown",
      "metadata": {
        "id": "5SqrBy6iloMd",
        "colab_type": "text"
      },
      "source": [
        "1. Найдите среднее значение возраста в диапазоне от 14 до 50 лет включительно."
      ]
    },
    {
      "cell_type": "code",
      "metadata": {
        "id": "6AbzQhkakRfc",
        "colab_type": "code",
        "colab": {
          "base_uri": "https://localhost:8080/",
          "height": 33
        },
        "outputId": "96eb1dc9-6394-407d-f99e-e66e273ce862"
      },
      "source": [
        "# your code and output here\n",
        "\n",
        "need_ages_mean = df['age'][df['age']<=50][df['age']>=14].mean()\n",
        "print(need_ages_mean)"
      ],
      "execution_count": 3,
      "outputs": [
        {
          "output_type": "stream",
          "text": [
            "22.704171601526518\n"
          ],
          "name": "stdout"
        }
      ]
    },
    {
      "cell_type": "markdown",
      "metadata": {
        "id": "Pw5gpMkDk4R6",
        "colab_type": "text"
      },
      "source": [
        "2. Какую долю 16-летние авторы составляют в диапазоне от 16 до 26 лет включительно?"
      ]
    },
    {
      "cell_type": "code",
      "metadata": {
        "id": "qXejPDLZj3eX",
        "colab_type": "code",
        "colab": {
          "base_uri": "https://localhost:8080/",
          "height": 33
        },
        "outputId": "ac02eca1-66ee-48f2-b393-4496eb2a935a"
      },
      "source": [
        "# your code and output here\n",
        "av = df['age'][df['age']<=26][df['age']>=16]\n",
        "all_numbers = av.value_counts().tolist()\n",
        "print(av.value_counts()[16]/sum(all_numbers))\n"
      ],
      "execution_count": 4,
      "outputs": [
        {
          "output_type": "stream",
          "text": [
            "0.1259412780656304\n"
          ],
          "name": "stdout"
        }
      ]
    },
    {
      "cell_type": "markdown",
      "metadata": {
        "id": "vGinA-Swjvlc",
        "colab_type": "text"
      },
      "source": [
        "3. Сколько в датасете текстов, авторам которых 28 или 30 лет?"
      ]
    },
    {
      "cell_type": "code",
      "metadata": {
        "id": "QNz0sLmjYLxr",
        "colab_type": "code",
        "colab": {
          "base_uri": "https://localhost:8080/",
          "height": 33
        },
        "outputId": "517ae79c-e081-459f-b407-8c781f233342"
      },
      "source": [
        "# your code and output here\n",
        "len(df['age'][df['age']==28]) + len(df['age'][df['age']==30])"
      ],
      "execution_count": 5,
      "outputs": [
        {
          "output_type": "execute_result",
          "data": {
            "text/plain": [
              "1185"
            ]
          },
          "metadata": {
            "tags": []
          },
          "execution_count": 5
        }
      ]
    },
    {
      "cell_type": "markdown",
      "metadata": {
        "id": "WIiciL_BnJzl",
        "colab_type": "text"
      },
      "source": [
        "4. С помощью одной встроенной в ```pandas``` функции отобразите всю статистику по колонке ```age``` в диапазоне от 18 до 30 лет включительно."
      ]
    },
    {
      "cell_type": "code",
      "metadata": {
        "id": "q2cC4Sxanka6",
        "colab_type": "code",
        "colab": {
          "base_uri": "https://localhost:8080/",
          "height": 163
        },
        "outputId": "d7e8082e-8937-4239-904e-77748386a4fe"
      },
      "source": [
        "# your code and output here\n",
        "df['age'][df['age']<=30][df['age']>=18].describe()"
      ],
      "execution_count": 6,
      "outputs": [
        {
          "output_type": "execute_result",
          "data": {
            "text/plain": [
              "count    13205.000000\n",
              "mean        22.676638\n",
              "std          3.550254\n",
              "min         18.000000\n",
              "25%         20.000000\n",
              "50%         22.000000\n",
              "75%         25.000000\n",
              "max         30.000000\n",
              "Name: age, dtype: float64"
            ]
          },
          "metadata": {
            "tags": []
          },
          "execution_count": 6
        }
      ]
    },
    {
      "cell_type": "markdown",
      "metadata": {
        "id": "CT99FXGjoGs1",
        "colab_type": "text"
      },
      "source": [
        "5. Сколько в датасете положительных / отрицательных примеров?"
      ]
    },
    {
      "cell_type": "code",
      "metadata": {
        "id": "j-nelLWJoMpT",
        "colab_type": "code",
        "colab": {
          "base_uri": "https://localhost:8080/",
          "height": 66
        },
        "outputId": "05fb5401-7e3f-4a38-b43b-a61b85c4620a"
      },
      "source": [
        "# your code and output here\n",
        "df['label'].value_counts()"
      ],
      "execution_count": 7,
      "outputs": [
        {
          "output_type": "execute_result",
          "data": {
            "text/plain": [
              "0    32021\n",
              "1    32018\n",
              "Name: label, dtype: int64"
            ]
          },
          "metadata": {
            "tags": []
          },
          "execution_count": 7
        }
      ]
    },
    {
      "cell_type": "markdown",
      "metadata": {
        "id": "QHldQF5FoAyB",
        "colab_type": "text"
      },
      "source": [
        "### Часть 2: Предобработка (3 балла)"
      ]
    },
    {
      "cell_type": "markdown",
      "metadata": {
        "id": "Mc1d4G-q671X",
        "colab_type": "text"
      },
      "source": [
        "1. Посчитайте количество предложений в каждом тексте. Сохраните эти значения в отдельной колонке датафрейма."
      ]
    },
    {
      "cell_type": "code",
      "metadata": {
        "id": "HTni9dHd-NMz",
        "colab_type": "code",
        "colab": {
          "base_uri": "https://localhost:8080/",
          "height": 33
        },
        "outputId": "7555a791-e705-471a-c22c-a5d0c6d5c744"
      },
      "source": [
        "# your code and output here\n",
        "!pip install razdel\n",
        "from razdel import sentenize, tokenize\n",
        "\n",
        "def get_num_sentences(text):\n",
        "    segmented_sentences = sentenize(text)\n",
        "    num_sentences = len(list(segmented_sentences))\n",
        "    return num_sentences\n",
        "\n",
        "df[\"len_sentence\"] = df[\"text\"].apply(get_num_sentences)"
      ],
      "execution_count": 8,
      "outputs": [
        {
          "output_type": "stream",
          "text": [
            "Requirement already satisfied: razdel in /usr/local/lib/python3.6/dist-packages (0.5.0)\n"
          ],
          "name": "stdout"
        }
      ]
    },
    {
      "cell_type": "markdown",
      "metadata": {
        "id": "NX7FxEafFTiy",
        "colab_type": "text"
      },
      "source": [
        "2. Напишите функцию для токенизации текста. Удалите стоп-слова."
      ]
    },
    {
      "cell_type": "code",
      "metadata": {
        "id": "Y1S782xBFlIi",
        "colab_type": "code",
        "colab": {
          "base_uri": "https://localhost:8080/",
          "height": 261
        },
        "outputId": "973b329e-6337-452d-9047-c9a1c23c7d16"
      },
      "source": [
        "import nltk\n",
        "nltk.download()\n",
        "from nltk.tokenize import sent_tokenize, word_tokenize\n",
        "from nltk.corpus import stopwords\n",
        "stop_words = stopwords.words('russian')\n",
        "import string\n",
        "\n",
        "def token(text):\n",
        "  table = str.maketrans('', '', string.punctuation + '«»–—')\n",
        "  text = ''.join([w.translate(table) for w in text])\n",
        "  text = text.lower()\n",
        "  tokens = list(word_tokenize(text))\n",
        "  tokens = [i for i in tokens if (i not in stop_words)]\n",
        "  return tokens"
      ],
      "execution_count": 11,
      "outputs": [
        {
          "output_type": "stream",
          "text": [
            "NLTK Downloader\n",
            "---------------------------------------------------------------------------\n",
            "    d) Download   l) List    u) Update   c) Config   h) Help   q) Quit\n",
            "---------------------------------------------------------------------------\n",
            "Downloader> d\n",
            "\n",
            "Download which package (l=list; x=cancel)?\n",
            "  Identifier> stopwords\n",
            "    Downloading package stopwords to /root/nltk_data...\n",
            "      Package stopwords is already up-to-date!\n",
            "\n",
            "---------------------------------------------------------------------------\n",
            "    d) Download   l) List    u) Update   c) Config   h) Help   q) Quit\n",
            "---------------------------------------------------------------------------\n",
            "Downloader> q\n"
          ],
          "name": "stdout"
        }
      ]
    },
    {
      "cell_type": "markdown",
      "metadata": {
        "id": "HVq8if4s8q_1",
        "colab_type": "text"
      },
      "source": [
        "3. Посчитайте количество токенов в тексте (без стоп-слов). Найдите среднее этих значений как по всей выборке, так и внутри каждого класса. "
      ]
    },
    {
      "cell_type": "code",
      "metadata": {
        "id": "rP8_BV3I-RPE",
        "colab_type": "code",
        "colab": {}
      },
      "source": [
        "# your code and output here\n",
        "df['count_tok'] = df[\"text\"].apply(token)"
      ],
      "execution_count": 12,
      "outputs": []
    },
    {
      "cell_type": "code",
      "metadata": {
        "id": "4XSOE44IPLl9",
        "colab_type": "code",
        "colab": {
          "base_uri": "https://localhost:8080/",
          "height": 50
        },
        "outputId": "7d50a91d-e930-41dd-8597-e18b09fbcac1"
      },
      "source": [
        "print(df['count_tok'][df['label'] == 1].apply(len).mean())\n",
        "print(df['count_tok'][df['label'] == 0].apply(len).mean())"
      ],
      "execution_count": 13,
      "outputs": [
        {
          "output_type": "stream",
          "text": [
            "68.84283840339809\n",
            "140.07126573186346\n"
          ],
          "name": "stdout"
        }
      ]
    },
    {
      "cell_type": "markdown",
      "metadata": {
        "id": "xXsyP9NHG-gO",
        "colab_type": "text"
      },
      "source": [
        "4. Напишите функцию, которая переводит текст в последовательность лемм."
      ]
    },
    {
      "cell_type": "code",
      "metadata": {
        "id": "n1o_Rh2iHDmH",
        "colab_type": "code",
        "colab": {
          "base_uri": "https://localhost:8080/",
          "height": 131
        },
        "outputId": "2494556f-ac22-4f36-85ba-9925f447a4e1"
      },
      "source": [
        "# your code and output here\n",
        "!pip install pymorphy2 --upgrade\n",
        "!pip install pymorphy2-dicts-ru --upgrade\n",
        "import pymorphy2\n",
        "morph = pymorphy2.MorphAnalyzer(lang='ru-old')\n",
        "\n",
        "def lemmat(tokens_list):\n",
        "  lemmas = [morph.parse(i)[0].normal_form for i in tokens_list]\n",
        "  return lemmas"
      ],
      "execution_count": 16,
      "outputs": [
        {
          "output_type": "stream",
          "text": [
            "Requirement already up-to-date: pymorphy2 in /usr/local/lib/python3.6/dist-packages (0.9)\n",
            "Requirement already satisfied, skipping upgrade: dawg-python>=0.7.1 in /usr/local/lib/python3.6/dist-packages (from pymorphy2) (0.7.2)\n",
            "Requirement already satisfied, skipping upgrade: docopt>=0.6 in /usr/local/lib/python3.6/dist-packages (from pymorphy2) (0.6.2)\n",
            "Requirement already satisfied, skipping upgrade: pymorphy2-dicts-ru<3.0,>=2.4 in /usr/local/lib/python3.6/dist-packages (from pymorphy2) (2.4.404381.4453942)\n",
            "Requirement already up-to-date: pymorphy2-dicts-ru in /usr/local/lib/python3.6/dist-packages (2.4.404381.4453942)\n"
          ],
          "name": "stdout"
        },
        {
          "output_type": "stream",
          "text": [
            "/usr/local/lib/python3.6/dist-packages/pymorphy2/analyzer.py:281: UserWarning: Dictionary language (None) doesn't match analyzer language ('ru-old').\n",
            "  \"analyzer language (%r).\" % (dictionary.lang, lang)\n"
          ],
          "name": "stderr"
        }
      ]
    },
    {
      "cell_type": "code",
      "metadata": {
        "id": "vL85IHDITCw5",
        "colab_type": "code",
        "colab": {
          "base_uri": "https://localhost:8080/",
          "height": 50
        },
        "outputId": "c5b8dc52-720c-4081-ef1d-297d16ac7bed"
      },
      "source": [
        "df[\"count_tok\"][:1].apply(lemmat)"
      ],
      "execution_count": 17,
      "outputs": [
        {
          "output_type": "execute_result",
          "data": {
            "text/plain": [
              "0    [когдато, добрый, романтик, который, стремитьс...\n",
              "Name: count_tok, dtype: object"
            ]
          },
          "metadata": {
            "tags": []
          },
          "execution_count": 17
        }
      ]
    },
    {
      "cell_type": "markdown",
      "metadata": {
        "id": "D5kyEWTZ98r3",
        "colab_type": "text"
      },
      "source": [
        "5. Напишите функцию, которая переводит текст в последовательность частеречных тегов."
      ]
    },
    {
      "cell_type": "code",
      "metadata": {
        "id": "83EABAwH756M",
        "colab_type": "code",
        "colab": {
          "base_uri": "https://localhost:8080/",
          "height": 50
        },
        "outputId": "77dc33ab-1bc5-42d5-9ba1-1ab24facc403"
      },
      "source": [
        "# your code and output here\n",
        "def to_part_speech(lemmas_list):\n",
        "  words = [morph.parse(i)[0] for i in lemmas_list]\n",
        "  tags = [word.tag.POS for word in words]\n",
        "  return tags\n",
        "df[\"count_tok\"][:1].apply(to_part_speech)"
      ],
      "execution_count": 18,
      "outputs": [
        {
          "output_type": "execute_result",
          "data": {
            "text/plain": [
              "0    [NOUN, ADJF, NOUN, ADJF, VERB, INFN, ADJF, VER...\n",
              "Name: count_tok, dtype: object"
            ]
          },
          "metadata": {
            "tags": []
          },
          "execution_count": 18
        }
      ]
    },
    {
      "cell_type": "markdown",
      "metadata": {
        "id": "d7VAjC4VHSyi",
        "colab_type": "text"
      },
      "source": [
        "6. Какие слова мы можем добавить в список стоп-слов? Приведите примеры и объясните, почему."
      ]
    },
    {
      "cell_type": "code",
      "metadata": {
        "id": "bElLevUU-x7m",
        "colab_type": "code",
        "colab": {}
      },
      "source": [
        "# your code and output here\n",
        "# иногда бывает полезно исключать именнованные сущности, например, если текст содержит много \n",
        "# совственных имен (в пьесах, например), и эти именна нам смещают выборку, а нам, допустим,\n",
        "# интересно посмотреть на самые популярные темы для обсуждений в этой пьесе, то лучше их убрать\n",
        "\n",
        "# если парсим, например, комментарии пользователей, то полезно убрать \n",
        "# слова типа \"крч\", \"мб\" (кажется, они несут меньше смысла, чем \"хз\")"
      ],
      "execution_count": 19,
      "outputs": []
    },
    {
      "cell_type": "markdown",
      "metadata": {
        "id": "vcLlYOZfIWRX",
        "colab_type": "text"
      },
      "source": [
        "### Часть 3: Визуализация (1 балл)"
      ]
    },
    {
      "cell_type": "markdown",
      "metadata": {
        "id": "b9s_mHYIoOjg",
        "colab_type": "text"
      },
      "source": [
        "1. Визуализируйте распределение количество предложений / текст."
      ]
    },
    {
      "cell_type": "code",
      "metadata": {
        "id": "CUgLhfWoIvKa",
        "colab_type": "code",
        "colab": {
          "base_uri": "https://localhost:8080/",
          "height": 312
        },
        "outputId": "c8e6f594-7ec7-42c5-c823-40c474d4c641"
      },
      "source": [
        "# your code and output here\n",
        "import matplotlib.pyplot as plt\n",
        "import seaborn as sns\n",
        "\n",
        "def plot_len_dist(df, col_name):\n",
        "    sns.distplot(a = df[col_name], bins=20, color=\"blue\")\n",
        "plot_len_dist(df, col_name=\"len_sentence\")"
      ],
      "execution_count": 20,
      "outputs": [
        {
          "output_type": "stream",
          "text": [
            "/usr/local/lib/python3.6/dist-packages/statsmodels/tools/_testing.py:19: FutureWarning: pandas.util.testing is deprecated. Use the functions in the public API at pandas.testing instead.\n",
            "  import pandas.util.testing as tm\n"
          ],
          "name": "stderr"
        },
        {
          "output_type": "display_data",
          "data": {
            "image/png": "[encoded data removed]",
            "text/plain": [
              "<Figure size 432x288 with 1 Axes>"
            ]
          },
          "metadata": {
            "tags": [],
            "needs_background": "light"
          }
        }
      ]
    },
    {
      "cell_type": "markdown",
      "metadata": {
        "id": "PzPsrj36KJ7n",
        "colab_type": "text"
      },
      "source": [
        "2. Визуализируйте распределение количество-предложений / текст внутри каждого класса."
      ]
    },
    {
      "cell_type": "code",
      "metadata": {
        "id": "z7R5719eV2Me",
        "colab_type": "code",
        "colab": {
          "base_uri": "https://localhost:8080/",
          "height": 441
        },
        "outputId": "77fd4227-3ea0-4ad6-e200-186d4242084c"
      },
      "source": [
        "# your code and output here\n",
        "\n",
        "def plot_len_dist(df, col_name):\n",
        "    fig, axes = plt.subplots(1, 2, figsize=(20, 6))\n",
        "\n",
        "    for i, topic in enumerate(list(df[\"label\"].unique())):\n",
        "        topic_subset = df[df[\"label\"] == topic][col_name]\n",
        "\n",
        "        sns.distplot(topic_subset, bins=20, color=\"blue\", ax=axes[i])\n",
        "        axes[i].axvline(\n",
        "            (topic_subset).mean(), color=\"k\", linestyle=\"dashed\", linewidth=1, label=\"mean\"\n",
        "        )\n",
        "        axes[i].axvline(\n",
        "            (topic_subset).median(), color=\"r\", linestyle=\"dashed\", linewidth=1, label=\"median\"\n",
        "        )\n",
        "        axes[i].legend()\n",
        "        axes[i].set(title=\"%s: %s column values\" % (topic, col_name))\n",
        "    \n",
        "    fig.tight_layout()\n",
        "plot_len_dist(df, \"len_sentence\")"
      ],
      "execution_count": 21,
      "outputs": [
        {
          "output_type": "display_data",
          "data": {
            "image/png": "[encoded data removed]",
            "text/plain": [
              "<Figure size 1440x432 with 2 Axes>"
            ]
          },
          "metadata": {
            "tags": [],
            "needs_background": "light"
          }
        }
      ]
    },
    {
      "cell_type": "markdown",
      "metadata": {
        "id": "5zGMiWUBQKRi",
        "colab_type": "text"
      },
      "source": [
        "3. Верно ли, что количество предложений в тексте коррелирует с возрастом автора в подвыборке от 16 до 32 лет включительно? Если да, какая это корреляция – положительная или отрицательная? Визуализируйте матрицу корреляции."
      ]
    },
    {
      "cell_type": "code",
      "metadata": {
        "id": "qAeNmcoqQi5x",
        "colab_type": "code",
        "colab": {
          "base_uri": "https://localhost:8080/",
          "height": 516
        },
        "outputId": "81126680-165a-4a90-ff7f-c7c81230d4c8"
      },
      "source": [
        "df_ages = df[['text', 'age', 'len_sentence']][df['age']<=30][df['age']>=16]\n",
        "print(df_ages.corr())\n",
        "print(df_ages.head())\n",
        "\n",
        "# значение корреляции близко к нулю, а следовательно корреляция между возрастом \n",
        "# автора и длинной его текстов отсутствует\n",
        "\n",
        "fig, ax = plt.subplots(figsize=(10, 5))\n",
        "sns.heatmap(\n",
        "    data=df_ages.corr(), \n",
        "    annot=True,\n",
        "    ax=ax\n",
        ")\n",
        "\n",
        "plt.title(\"корреляция между возрастом автора и количеством предложений в тексте\")\n",
        "plt.show()"
      ],
      "execution_count": 22,
      "outputs": [
        {
          "output_type": "stream",
          "text": [
            "/usr/local/lib/python3.6/dist-packages/ipykernel_launcher.py:1: UserWarning: Boolean Series key will be reindexed to match DataFrame index.\n",
            "  \"\"\"Entry point for launching an IPython kernel.\n"
          ],
          "name": "stderr"
        },
        {
          "output_type": "stream",
          "text": [
            "                   age  len_sentence\n",
            "age           1.000000      0.039647\n",
            "len_sentence  0.039647      1.000000\n",
            "                                                 text   age  len_sentence\n",
            "1   Здраствуйте! Я каждый день просыпаюсь с мыслью...  28.0             6\n",
            "2   У меня проблемы с девушкой. Каждую ссору я не ...  16.0            10\n",
            "7   Начну с начала, у меня есть мама, с ней очень ...  18.0             5\n",
            "9                      Этот год был очень трудным....  17.0             1\n",
            "10  Мне 23.Я мама и студентка. Живу вместе с дочер...  23.0            10\n"
          ],
          "name": "stdout"
        },
        {
          "output_type": "display_data",
          "data": {
            "image/png": "[encoded data removed]",
            "text/plain": [
              "<Figure size 720x360 with 2 Axes>"
            ]
          },
          "metadata": {
            "tags": [],
            "needs_background": "light"
          }
        }
      ]
    },
    {
      "cell_type": "markdown",
      "metadata": {
        "id": "nBpo_1O5Ld7H",
        "colab_type": "text"
      },
      "source": [
        "### Часть 4: Извлечение текстовых признаков (4 балла)"
      ]
    },
    {
      "cell_type": "markdown",
      "metadata": {
        "id": "oqZUzenfL2sF",
        "colab_type": "text"
      },
      "source": [
        "1. Самостоятельно реализуйте функцию для получения посимвольных н-грамм (без использования библиотек)."
      ]
    },
    {
      "cell_type": "code",
      "metadata": {
        "id": "UOOp61e1MCU-",
        "colab_type": "code",
        "colab": {
          "base_uri": "https://localhost:8080/",
          "height": 488
        },
        "outputId": "6e11bf1d-7d4f-4248-e01c-5c0cfc992d2b"
      },
      "source": [
        "# your code and output here\n",
        "def char_ngrams1(text, n):\n",
        "  ngrams = []\n",
        "  for i, letter in enumerate(text):\n",
        "    if len(text[i:i+n]) == n:         # это устловие можно убрать, если мы не боимся н-грамм\n",
        "      ngrams.append(text[i:i+n])      # размером меньше n в случае если количество символов в тексте\n",
        "  return ngrams                       # не кратно n\n",
        "text = \"уставшая мама мыла грязную раму\"\n",
        "char_ngrams1(text, 3)"
      ],
      "execution_count": 23,
      "outputs": [
        {
          "output_type": "execute_result",
          "data": {
            "text/plain": [
              "['уст',\n",
              " 'ста',\n",
              " 'тав',\n",
              " 'авш',\n",
              " 'вша',\n",
              " 'шая',\n",
              " 'ая ',\n",
              " 'я м',\n",
              " ' ма',\n",
              " 'мам',\n",
              " 'ама',\n",
              " 'ма ',\n",
              " 'а м',\n",
              " ' мы',\n",
              " 'мыл',\n",
              " 'ыла',\n",
              " 'ла ',\n",
              " 'а г',\n",
              " ' гр',\n",
              " 'гря',\n",
              " 'ряз',\n",
              " 'язн',\n",
              " 'зну',\n",
              " 'ную',\n",
              " 'ую ',\n",
              " 'ю р',\n",
              " ' ра',\n",
              " 'рам',\n",
              " 'аму']"
            ]
          },
          "metadata": {
            "tags": []
          },
          "execution_count": 23
        }
      ]
    },
    {
      "cell_type": "markdown",
      "metadata": {
        "id": "CnPgflCeNsZA",
        "colab_type": "text"
      },
      "source": [
        "2. Самостоятельно реализуйте функцию для получения пословных н-грамм (без использования библиотек)."
      ]
    },
    {
      "cell_type": "code",
      "metadata": {
        "id": "fX_6RyMFOGL2",
        "colab_type": "code",
        "colab": {
          "base_uri": "https://localhost:8080/",
          "height": 33
        },
        "outputId": "b03b95c3-3b23-443c-cbf1-2c5354c3d535"
      },
      "source": [
        "# your code and output here\n",
        "def word_ngrams1(text, n):\n",
        "  if type(text) != type([]):\n",
        "    text = text.split()\n",
        "  ngrams = []\n",
        "  for i, word in enumerate(text):\n",
        "    if len(text[i:i+n]) == n:\n",
        "      ngrams.append(text[i:i+n])\n",
        "  return ngrams\n",
        "word_ngrams1(text, 4)"
      ],
      "execution_count": 25,
      "outputs": [
        {
          "output_type": "execute_result",
          "data": {
            "text/plain": [
              "[['уставшая', 'мама', 'мыла', 'грязную'], ['мама', 'мыла', 'грязную', 'раму']]"
            ]
          },
          "metadata": {
            "tags": []
          },
          "execution_count": 25
        }
      ]
    },
    {
      "cell_type": "markdown",
      "metadata": {
        "id": "zU4PJTZVOvcQ",
        "colab_type": "text"
      },
      "source": [
        "3. Самостоятельно реализуйте функцию для получения н-грамм лемм (без использования библиотек)."
      ]
    },
    {
      "cell_type": "code",
      "metadata": {
        "id": "dgWG3NdLO0JF",
        "colab_type": "code",
        "colab": {
          "base_uri": "https://localhost:8080/",
          "height": 33
        },
        "outputId": "6f4f3c61-40fb-41a1-c665-8770820511a1"
      },
      "source": [
        "# your code and output here\n",
        "def ngran_lem(text, n):\n",
        "  tokens_list = token(text)\n",
        "  str1 = ' '.join(lemmat(tokens_list))\n",
        "  ngrams = word_ngrams1(str1, n)\n",
        "  return ngrams \n",
        "ngran_lem(text, 4)"
      ],
      "execution_count": 29,
      "outputs": [
        {
          "output_type": "execute_result",
          "data": {
            "text/plain": [
              "[['устать', 'мама', 'мыло', 'грязный'], ['мама', 'мыло', 'грязный', 'рам']]"
            ]
          },
          "metadata": {
            "tags": []
          },
          "execution_count": 29
        }
      ]
    },
    {
      "cell_type": "markdown",
      "metadata": {
        "id": "LHUo6LdLOblj",
        "colab_type": "text"
      },
      "source": [
        "4. Самостоятельно реализуйте функцию для получения н-грамм частеречных тегов (без использования библиотек)."
      ]
    },
    {
      "cell_type": "code",
      "metadata": {
        "id": "YlPDRUCcOoCX",
        "colab_type": "code",
        "colab": {
          "base_uri": "https://localhost:8080/",
          "height": 33
        },
        "outputId": "890aa5fc-b898-4f3c-e525-27877691f39c"
      },
      "source": [
        "# your code and output here\n",
        "\n",
        "def pos_ngrams1(text, n):\n",
        "  tokens_list = token(text)\n",
        "  pos = to_part_speech(tokens_list)\n",
        "  pos_ngram = word_ngrams1(pos, n)\n",
        "  return pos_ngram\n",
        "pos_ngrams1(text, n=2)\n",
        "\n"
      ],
      "execution_count": 31,
      "outputs": [
        {
          "output_type": "execute_result",
          "data": {
            "text/plain": [
              "[['PRTF', 'NOUN'], ['NOUN', 'NOUN'], ['NOUN', 'ADJF'], ['ADJF', 'NOUN']]"
            ]
          },
          "metadata": {
            "tags": []
          },
          "execution_count": 31
        }
      ]
    },
    {
      "cell_type": "code",
      "metadata": {
        "id": "iBh5fRbOPKsn",
        "colab_type": "code",
        "colab": {}
      },
      "source": [
        ""
      ],
      "execution_count": 31,
      "outputs": []
    },
    {
      "cell_type": "markdown",
      "metadata": {
        "id": "ZnUBQ6hLPNb3",
        "colab_type": "text"
      },
      "source": [
        "5. Самостоятельно реализуйте функцию для получения частотного словаря частеречных тегов по коллекции документов."
      ]
    },
    {
      "cell_type": "code",
      "metadata": {
        "id": "P69DZahVPctr",
        "colab_type": "code",
        "colab": {
          "base_uri": "https://localhost:8080/",
          "height": 310
        },
        "outputId": "ed5db033-cf3d-4f46-c89e-fd1db5c6c2d3"
      },
      "source": [
        "# your code and output here\n",
        "from collections import Counter\n",
        "\n",
        "def make_corp(text):\n",
        "  text = text.tolist()\n",
        "  corpus = []\n",
        "  for line in text:\n",
        "    tokens_list = token(line)\n",
        "    pos = to_part_speech(tokens_list)\n",
        "    corpus.append(pos)\n",
        "  corpus = [item for sublist in corpus for item in sublist]\n",
        "  return Counter(corpus)\n",
        "\n",
        "make_corp(df[\"text\"][:250])"
      ],
      "execution_count": 32,
      "outputs": [
        {
          "output_type": "execute_result",
          "data": {
            "text/plain": [
              "Counter({'ADJF': 2070,\n",
              "         'ADJS': 325,\n",
              "         'ADVB': 1422,\n",
              "         'COMP': 124,\n",
              "         'CONJ': 210,\n",
              "         'GRND': 127,\n",
              "         'INFN': 1306,\n",
              "         'INTJ': 9,\n",
              "         'NOUN': 6123,\n",
              "         'NPRO': 286,\n",
              "         'NUMR': 35,\n",
              "         None: 433,\n",
              "         'PRCL': 398,\n",
              "         'PRED': 88,\n",
              "         'PREP': 82,\n",
              "         'PRTF': 45,\n",
              "         'PRTS': 102,\n",
              "         'VERB': 4345})"
            ]
          },
          "metadata": {
            "tags": []
          },
          "execution_count": 32
        }
      ]
    },
    {
      "cell_type": "code",
      "metadata": {
        "id": "7ZLFo264Pa4b",
        "colab_type": "code",
        "colab": {}
      },
      "source": [
        "# пример работы функции\n",
        "\n",
        "corpus = [\n",
        "    \"мама мыла уставшую раму\",\n",
        "    \"высшая школа экономики\",\n",
        "    \"компьютерная лингвистика\",\n",
        "    \"осень наступила\"\n",
        "]\n",
        "\n",
        "build_pos_dict(corpus)"
      ],
      "execution_count": null,
      "outputs": []
    },
    {
      "cell_type": "markdown",
      "metadata": {
        "id": "yb_mcJ8sSr3-",
        "colab_type": "text"
      },
      "source": [
        "6. Постройте частотный словарь лемм по текстам внутри каждого класса. Найдите топ-15 лемм для текстов каждого класса. Есть ли между этими списками пересечение? Если да, сколько лемм пересекается?"
      ]
    },
    {
      "cell_type": "code",
      "metadata": {
        "id": "nP6_MZbHTLtf",
        "colab_type": "code",
        "colab": {
          "base_uri": "https://localhost:8080/",
          "height": 70
        },
        "outputId": "9a80dd7e-f440-4894-ecbe-e5e169f7b8e3"
      },
      "source": [
        "# your code and output here\n",
        "def make_corp_lemm(text):\n",
        "  text = text.tolist()\n",
        "  corpus = []\n",
        "  for line in text:\n",
        "    tokens_list = token(line)\n",
        "    lemmas = lemmat(tokens_list)\n",
        "    corpus.append(lemmas)\n",
        "  corpus = [item for sublist in corpus for item in sublist]\n",
        "  return Counter(corpus)\n",
        "\n",
        "my_dict0 = make_corp_lemm(df['text'][df['label'] == 0][:250]).most_common(15)\n",
        "my_dict1 = make_corp_lemm(df['text'][df['label'] == 1][:250]).most_common(15)\n",
        "print(my_dict0)\n",
        "print(my_dict1)\n",
        "\n",
        "# пересекающиеся слова: год, это, который, свой, человек (5)"
      ],
      "execution_count": 33,
      "outputs": [
        {
          "output_type": "stream",
          "text": [
            "[('год', 297), ('который', 141), ('область', 133), ('казахстан', 123), ('это', 96), ('работа', 96), ('город', 90), ('россия', 89), ('район', 89), ('свой', 88), ('человек', 87), ('проект', 86), ('также', 85), ('президент', 85), ('наш', 84)]\n",
            "[('хотеть', 233), ('это', 230), ('год', 204), ('жить', 197), ('мочь', 184), ('очень', 172), ('жизнь', 162), ('знать', 135), ('мой', 132), ('весь', 124), ('свой', 119), ('просто', 117), ('человек', 109), ('который', 108), ('мама', 102)]\n"
          ],
          "name": "stdout"
        }
      ]
    },
    {
      "cell_type": "markdown",
      "metadata": {
        "id": "AqfZJ4csRSxZ",
        "colab_type": "text"
      },
      "source": [
        "7. Какие текстовые признаки могли бы быть полезными для решения задачи классификации на этих данных? Приведите примеры и перечислите ресурсы, которые вы бы использовали для конструирования этих признаков."
      ]
    },
    {
      "cell_type": "code",
      "metadata": {
        "id": "4T5Rdx1HRjWX",
        "colab_type": "code",
        "colab": {}
      },
      "source": [
        "# your answer text here\n",
        "# количество токенов в текстах депрессивных (и нет) \n",
        "# количество предложений в текстах \n",
        "# специфичная лексика для каждого класса \n",
        "# выводы делала на основании этой домашки и тех функция, которые реализовала\n",
        "\n",
        "\n",
        "\n"
      ],
      "execution_count": null,
      "outputs": []
    },
    {
      "cell_type": "code",
      "metadata": {
        "id": "uFiS-nNXQHZn",
        "colab_type": "code",
        "colab": {}
      },
      "source": [
        ""
      ],
      "execution_count": null,
      "outputs": []
    }
  ]
}